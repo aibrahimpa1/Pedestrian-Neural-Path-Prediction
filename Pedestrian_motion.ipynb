{
 "cells": [
  {
   "cell_type": "markdown",
   "metadata": {},
   "source": [
    "# Pedestrian Motion Prediction"
   ]
  },
  {
   "cell_type": "markdown",
   "metadata": {},
   "source": [
    "## Libraries"
   ]
  },
  {
   "cell_type": "code",
   "execution_count": 30,
   "metadata": {},
   "outputs": [],
   "source": [
    "%matplotlib inline\n",
    "from collections import defaultdict\n",
    "import numpy as np # For numerical calculations\n",
    "import pandas as pd # For handling the data \n",
    "import xml.etree.ElementTree as ET # To parse XML files\n",
    "from statsmodels.tsa.stattools import adfuller # For Dickey-Fuller Stationarity Test\n",
    "from statsmodels.tsa.stattools import kpss\n",
    "from statsmodels.tsa.seasonal import seasonal_decompose\n",
    "from pandas.plotting import autocorrelation_plot\n",
    "\n",
    "import seaborn as sns\n",
    "import matplotlib.pyplot as plt # For plotting"
   ]
  },
  {
   "cell_type": "code",
   "execution_count": 2,
   "metadata": {},
   "outputs": [
    {
     "name": "stderr",
     "output_type": "stream",
     "text": [
      "C:\\Users\\Amina Lejla\\Anaconda3\\lib\\site-packages\\h5py\\__init__.py:36: FutureWarning: Conversion of the second argument of issubdtype from `float` to `np.floating` is deprecated. In future, it will be treated as `np.float64 == np.dtype(float).type`.\n",
      "  from ._conv import register_converters as _register_converters\n",
      "Using TensorFlow backend.\n"
     ]
    }
   ],
   "source": [
    "from sklearn.preprocessing import MinMaxScaler\n",
    "from keras.models import Sequential\n",
    "from keras.optimizers import SGD\n",
    "from keras.layers import Dense, LSTM, Dropout, Masking\n",
    "from keras.preprocessing.sequence import pad_sequences\n",
    "from sklearn.metrics import mean_squared_error\n",
    "from sklearn.preprocessing import normalize\n",
    "import math"
   ]
  },
  {
   "cell_type": "code",
   "execution_count": 3,
   "metadata": {},
   "outputs": [],
   "source": [
    "plt.rcParams['figure.figsize'] = [15, 7] # For bigger plots\n",
    "plt.style.use('fivethirtyeight') # Special style template for matplotlib, highly useful for visualizing time series data"
   ]
  },
  {
   "cell_type": "markdown",
   "metadata": {},
   "source": [
    "## Parsing the XML Files"
   ]
  },
  {
   "cell_type": "code",
   "execution_count": 4,
   "metadata": {},
   "outputs": [],
   "source": [
    "network_file_path = 'sumo_pedestrian_simulation/osm.net.xml'\n",
    "output_file_path = 'fcd-output.xml'"
   ]
  },
  {
   "cell_type": "markdown",
   "metadata": {},
   "source": [
    "Parse the network xml file to obtain the min and max values for x and y"
   ]
  },
  {
   "cell_type": "code",
   "execution_count": 5,
   "metadata": {},
   "outputs": [
    {
     "name": "stdout",
     "output_type": "stream",
     "text": [
      "X_min = 0.0, X_max = 2512.95, Y_min = 0.0, Y_max = 1576.61\n"
     ]
    }
   ],
   "source": [
    "tree = ET.parse(network_file_path) # Open the network XML file\n",
    "root = tree.getroot() # Get the root of the file\n",
    "convBoundary = root[0].attrib['convBoundary'] # Get the convBoundary attribute of the location tag\n",
    "x_min, y_min, x_max, y_max = map(lambda x: float(x), convBoundary.split(',')) # Get the min and max by splitting the convBoundary stringing\n",
    "print('X_min = {}, X_max = {}, Y_min = {}, Y_max = {}'.format(x_min, x_max, y_min, y_max))"
   ]
  },
  {
   "cell_type": "markdown",
   "metadata": {},
   "source": [
    "Parse the fcd output file to obtain the coordinates of the pedestrians"
   ]
  },
  {
   "cell_type": "code",
   "execution_count": 6,
   "metadata": {},
   "outputs": [],
   "source": [
    "# Create an empty dataframe and then fill it up with values from the xml file\n",
    "columns = ['time', 'id', 'x', 'y', 'angle', 'speed', 'pos', 'edge', 'slope']\n",
    "output_data = pd.DataFrame(columns=columns)\n",
    "\n",
    "# Open the XML file\n",
    "root = ET.parse(output_file_path).getroot()\n",
    "\n",
    "# Iterate over all timesteps\n",
    "for timestep in root:\n",
    "    # Get the time value of the timestep\n",
    "    time = timestep.attrib\n",
    "    # Iterate over all pedestrians in a timestep\n",
    "    rows = []\n",
    "    for person in timestep:\n",
    "        rows.append(dict(time, **person.attrib))\n",
    "    # Append the data to the output_data dataframe\n",
    "    output_data = output_data.append(rows, ignore_index=True).apply(pd.to_numeric, errors='ignore')"
   ]
  },
  {
   "cell_type": "code",
   "execution_count": 7,
   "metadata": {},
   "outputs": [
    {
     "name": "stdout",
     "output_type": "stream",
     "text": [
      "Number of rows : 289644\n",
      "    time    id        x        y   angle  speed    pos            edge  slope\n",
      "0    0.0  ped0  1254.41   722.40   85.74   0.00   0.00     389101374#1    0.0\n",
      "1    1.0  ped0  1255.11   722.09   85.74   0.68   4.33  :4605728249_w0    0.0\n",
      "2    2.0  ped0  1256.30   722.18   85.56   1.19   3.14  :4605728249_w0    0.0\n",
      "3    3.0  ped0  1257.68   722.29   85.56   1.38   1.76  :4605728249_w0    0.0\n",
      "4    4.0  ped0  1258.92   722.39   85.73   1.25   0.51  :4605728249_w0    0.0\n",
      "5    4.0  ped1  1156.49  1458.43  176.55   0.00   0.00       153698394    0.0\n",
      "6    5.0  ped1  1156.56  1457.21  176.55   1.23   1.23       153698394    0.0\n",
      "7    5.0  ped0  1260.29   722.85   85.73   1.38  17.27     389101374#0    0.0\n",
      "8    6.0  ped1  1156.64  1456.03  176.45   1.18   2.41       153698394    0.0\n",
      "9    6.0  ped0  1261.65   722.95   85.73   1.32  15.95     389101374#0    0.0\n",
      "10   7.0  ped1  1156.71  1454.79  176.45   1.24   3.64       153698394    0.0\n",
      "11   7.0  ped0  1262.87   723.04   85.73   1.18  14.77     389101374#0    0.0\n",
      "12   7.0  ped2  1002.23   887.29   85.30   0.00   0.00       4588219#2    0.0\n",
      "13   8.0  ped1  1156.80  1453.41  176.45   1.39   5.03       153698394    0.0\n",
      "14   8.0  ped0  1264.16   723.14   85.73   1.26  13.51     389101374#0    0.0\n",
      "15   8.0  ped2  1003.43   887.39   85.30   1.20   1.20       4588219#2    0.0\n",
      "16   9.0  ped1  1156.88  1452.15  176.45   1.26   6.30       153698394    0.0\n",
      "17   9.0  ped0  1265.51   723.24   85.73   1.32  12.19     389101374#0    0.0\n",
      "18   9.0  ped2  1004.65   887.49   85.30   1.23   2.43       4588219#2    0.0\n",
      "19  10.0  ped1  1156.96  1450.78  176.45   1.37   7.67       153698394    0.0\n",
      "20  10.0  ped0  1266.85   723.34   85.73   1.30  10.90     389101374#0    0.0\n",
      "21  10.0  ped2  1005.80   887.59   85.30   1.15   3.58       4588219#2    0.0\n",
      "22  11.0  ped1  1157.04  1449.58  176.45   1.20   8.87       153698394    0.0\n",
      "23  11.0  ped0  1268.13   723.43   85.73   1.25   9.65     389101374#0    0.0\n",
      "24  11.0  ped2  1007.17   887.70   85.30   1.38   4.96       4588219#2    0.0\n",
      "25  11.0  ped3   469.45  1021.15   73.26   0.00   0.00     532547382#6    0.0\n",
      "26  12.0  ped1  1157.12  1448.28  176.45   1.30  10.17       153698394    0.0\n",
      "27  12.0  ped0  1269.32   723.52   85.73   1.16   8.49     389101374#0    0.0\n",
      "28  12.0  ped2  1008.38   887.80   85.30   1.21   6.17       4588219#2    0.0\n",
      "29  12.0  ped3   470.53  1021.47   73.26   1.13   1.13     532547382#6    0.0\n",
      "30  13.0  ped1  1157.19  1447.14  176.45   1.14  11.31       153698394    0.0\n",
      "31  13.0  ped0  1270.68   723.62   85.73   1.32   7.17     389101374#0    0.0\n",
      "32  13.0  ped2  1009.65   887.90   85.30   1.28   7.45       4588219#2    0.0\n",
      "33  13.0  ped3   471.72  1021.83   73.26   1.24   2.37     532547382#6    0.0\n",
      "34  14.0  ped1  1157.27  1445.76  176.45   1.38  12.69       153698394    0.0\n",
      "35  14.0  ped4   464.95  1189.19  267.14   0.00   0.00     237221877#0    0.0\n",
      "36  14.0  ped0  1272.07   723.73   85.73   1.34   5.82     389101374#0    0.0\n",
      "37  14.0  ped2  1010.95   888.01   85.30   1.31   8.75       4588219#2    0.0\n",
      "38  14.0  ped3   472.84  1022.17   73.26   1.18   3.54     532547382#6    0.0\n",
      "39  15.0  ped4   463.38  1188.28  205.27   1.30   2.24  :2400549245_w0    0.0\n",
      "40  15.0  ped1  1157.34  1444.64  176.45   1.12  13.82       153698394    0.0\n",
      "41  15.0  ped0  1273.18   723.81  109.20   1.35   4.47     389101374#0    0.0\n",
      "42  15.0  ped2  1012.33   888.12   85.30   1.38  10.13       4588219#2    0.0\n",
      "43  15.0  ped3   473.99  1022.51   73.26   1.20   4.74     532547382#6    0.0\n",
      "44  16.0  ped4   462.81  1187.09  205.27   1.32   0.93  :2400549245_w0    0.0\n",
      "45  16.0  ped1  1157.43  1443.29  176.45   1.35  15.17       153698394    0.0\n",
      "46  16.0  ped0  1274.47   723.36  109.20   1.33   3.14     389101374#0    0.0\n",
      "47  16.0  ped2  1013.60   888.23   85.30   1.27  11.41       4588219#2    0.0\n",
      "48  16.0  ped3   475.07  1022.83   73.26   1.12   5.86     532547382#6    0.0\n",
      "49  17.0  ped5   571.83   921.79   73.43   0.00   0.00    -533509622#6    0.0\n"
     ]
    }
   ],
   "source": [
    "print(\"Number of rows : {}\".format(len(output_data.index)))\n",
    "print(output_data.head(50))"
   ]
  },
  {
   "cell_type": "code",
   "execution_count": 8,
   "metadata": {},
   "outputs": [
    {
     "name": "stdout",
     "output_type": "stream",
     "text": [
      "                   x              y          angle          speed  \\\n",
      "count  289644.000000  289644.000000  289644.000000  289644.000000   \n",
      "mean     1130.539104     901.496642     199.923750       1.201127   \n",
      "std       452.163238     210.798359     100.687926       0.251751   \n",
      "min       213.480000     261.880000       0.000000       0.000000   \n",
      "25%       764.450000     709.570000      85.740000       1.170000   \n",
      "50%      1099.100000     901.180000     186.940000       1.240000   \n",
      "75%      1525.032500    1075.020000     265.820000       1.320000   \n",
      "max      2154.340000    1492.070000     359.940000       1.390000   \n",
      "\n",
      "                 pos  \n",
      "count  289644.000000  \n",
      "mean       28.663230  \n",
      "std        32.533609  \n",
      "min         0.000000  \n",
      "25%         4.730000  \n",
      "50%        16.690000  \n",
      "75%        42.680000  \n",
      "max       279.630000  \n"
     ]
    }
   ],
   "source": [
    "# Only show statistics for the x and y coordinates\n",
    "print(output_data.drop(columns=[\"time\", \"slope\", \"edge\", \"id\"]).describe())"
   ]
  },
  {
   "cell_type": "code",
   "execution_count": 9,
   "metadata": {},
   "outputs": [],
   "source": [
    "pedestrian_sequence_length = list()\n",
    "pedestrian = list()\n",
    "for ped, g in output_data.groupby(\"id\"):\n",
    "    pedestrian_sequence_length.append(len(g))\n",
    "    pedestrian.append(ped)"
   ]
  },
  {
   "cell_type": "code",
   "execution_count": 10,
   "metadata": {},
   "outputs": [
    {
     "name": "stdout",
     "output_type": "stream",
     "text": [
      "Average pedestrian sequence length: 551.7028571428572\n"
     ]
    }
   ],
   "source": [
    "print(\"Average pedestrian sequence length: {}\".format(np.mean(pedestrian_sequence_length)))"
   ]
  },
  {
   "cell_type": "code",
   "execution_count": 26,
   "metadata": {},
   "outputs": [],
   "source": [
    "pedestrian_count = 0\n",
    "for _, g in output_data.groupby(\"id\"):\n",
    "    pedestrian_count += 1"
   ]
  },
  {
   "cell_type": "code",
   "execution_count": 27,
   "metadata": {},
   "outputs": [
    {
     "name": "stdout",
     "output_type": "stream",
     "text": [
      "Total number of unique pedestrians: 525\n"
     ]
    }
   ],
   "source": [
    "print(\"Total number of unique pedestrians: {}\".format(pedestrian_count))"
   ]
  },
  {
   "cell_type": "code",
   "execution_count": 12,
   "metadata": {},
   "outputs": [
    {
     "data": {
      "text/plain": [
       "<matplotlib.axes._subplots.AxesSubplot at 0x1d02e54c9e8>"
      ]
     },
     "execution_count": 12,
     "metadata": {},
     "output_type": "execute_result"
    },
    {
     "data": {
      "image/png": "[encoded data removed]",
      "text/plain": [
       "<Figure size 1080x504 with 1 Axes>"
      ]
     },
     "metadata": {},
     "output_type": "display_data"
    }
   ],
   "source": [
    "sns.barplot(x=pedestrian, y=pedestrian_sequence_length)"
   ]
  },
  {
   "cell_type": "code",
   "execution_count": 13,
   "metadata": {},
   "outputs": [
    {
     "data": {
      "text/plain": [
       "<matplotlib.axes._subplots.AxesSubplot at 0x1d028a531d0>"
      ]
     },
     "execution_count": 13,
     "metadata": {},
     "output_type": "execute_result"
    },
    {
     "data": {
      "image/png": "[encoded data removed]",
      "text/plain": [
       "<Figure size 1080x504 with 1 Axes>"
      ]
     },
     "metadata": {},
     "output_type": "display_data"
    }
   ],
   "source": [
    "sns.regplot(x=\"x\", y=\"y\", data=output_data, fit_reg=False)"
   ]
  },
  {
   "cell_type": "code",
   "execution_count": 14,
   "metadata": {},
   "outputs": [
    {
     "data": {
      "text/plain": [
       "<matplotlib.image.AxesImage at 0x1d02b67eb38>"
      ]
     },
     "execution_count": 14,
     "metadata": {},
     "output_type": "execute_result"
    },
    {
     "data": {
      "image/png": "[encoded data removed]",
      "text/plain": [
       "<Figure size 1080x504 with 1 Axes>"
      ]
     },
     "metadata": {},
     "output_type": "display_data"
    }
   ],
   "source": [
    "h, _, _, _ = plt.hist2d(output_data[\"x\"], output_data[\"y\"], bins = 20)\n",
    "plt.imshow(h, origin = \"lower\", interpolation = \"gaussian\")"
   ]
  },
  {
   "cell_type": "code",
   "execution_count": 15,
   "metadata": {},
   "outputs": [
    {
     "data": {
      "text/plain": [
       "<seaborn.axisgrid.JointGrid at 0x1d0289f42b0>"
      ]
     },
     "execution_count": 15,
     "metadata": {},
     "output_type": "execute_result"
    },
    {
     "data": {
      "image/png": "[encoded data removed]",
      "text/plain": [
       "<Figure size 432x432 with 3 Axes>"
      ]
     },
     "metadata": {},
     "output_type": "display_data"
    }
   ],
   "source": [
    "sns.jointplot(x=\"x\", y=\"y\", data=output_data)"
   ]
  },
  {
   "cell_type": "code",
   "execution_count": 16,
   "metadata": {},
   "outputs": [
    {
     "data": {
      "text/plain": [
       "<matplotlib.axes._subplots.AxesSubplot at 0x1d02b0f1390>"
      ]
     },
     "execution_count": 16,
     "metadata": {},
     "output_type": "execute_result"
    },
    {
     "data": {
      "image/png": "[encoded data removed]",
      "text/plain": [
       "<Figure size 1080x504 with 4 Axes>"
      ]
     },
     "metadata": {},
     "output_type": "display_data"
    }
   ],
   "source": [
    "f, axes = plt.subplots(2, 2)\n",
    "sns.distplot(output_data[\"x\"], kde=False, ax=axes[0, 0])\n",
    "sns.distplot(output_data[\"y\"], kde=False, ax=axes[0, 1])\n",
    "sns.distplot(output_data[\"speed\"], kde=False, ax=axes[1, 0])\n",
    "sns.distplot(output_data[\"angle\"], kde=False, ax=axes[1, 1])"
   ]
  },
  {
   "cell_type": "markdown",
   "metadata": {},
   "source": [
    "Treating the data as a time series by considering each pedestrian's path individually"
   ]
  },
  {
   "cell_type": "code",
   "execution_count": 17,
   "metadata": {},
   "outputs": [
    {
     "name": "stdout",
     "output_type": "stream",
     "text": [
      "    time    id        x       y   angle  speed     pos            edge\n",
      "0    0.0  ped0  1254.41  722.40   85.74   0.00    0.00     389101374#1\n",
      "1    1.0  ped0  1255.11  722.09   85.74   0.68    4.33  :4605728249_w0\n",
      "2    2.0  ped0  1256.30  722.18   85.56   1.19    3.14  :4605728249_w0\n",
      "3    3.0  ped0  1257.68  722.29   85.56   1.38    1.76  :4605728249_w0\n",
      "4    4.0  ped0  1258.92  722.39   85.73   1.25    0.51  :4605728249_w0\n",
      "5    5.0  ped0  1260.29  722.85   85.73   1.38   17.27     389101374#0\n",
      "6    6.0  ped0  1261.65  722.95   85.73   1.32   15.95     389101374#0\n",
      "7    7.0  ped0  1262.87  723.04   85.73   1.18   14.77     389101374#0\n",
      "8    8.0  ped0  1264.16  723.14   85.73   1.26   13.51     389101374#0\n",
      "9    9.0  ped0  1265.51  723.24   85.73   1.32   12.19     389101374#0\n",
      "10  10.0  ped0  1266.85  723.34   85.73   1.30   10.90     389101374#0\n",
      "11  11.0  ped0  1268.13  723.43   85.73   1.25    9.65     389101374#0\n",
      "12  12.0  ped0  1269.32  723.52   85.73   1.16    8.49     389101374#0\n",
      "13  13.0  ped0  1270.68  723.62   85.73   1.32    7.17     389101374#0\n",
      "14  14.0  ped0  1272.07  723.73   85.73   1.34    5.82     389101374#0\n",
      "15  15.0  ped0  1273.18  723.81  109.20   1.35    4.47     389101374#0\n",
      "16  16.0  ped0  1274.47  723.36  109.20   1.33    3.14     389101374#0\n",
      "17  17.0  ped0  1275.80  722.90  109.20   1.36    1.78     389101374#0\n",
      "18  18.0  ped0  1276.89  722.52  109.20   1.12    0.65     389101374#0\n",
      "19  19.0  ped0  1278.05  721.73  109.20   1.34    3.51  :3922684842_w0\n",
      "20  20.0  ped0  1279.44  721.51   93.40   1.13    2.38  :3922684842_w0\n",
      "21  21.0  ped0  1280.93  721.44   86.31   1.36    1.01  :3922684842_w0\n",
      "22  22.0  ped0  1282.10  721.87   86.31   1.19   21.45     -23755961#0\n",
      "23  23.0  ped0  1283.34  721.95   86.31   1.25   20.20     -23755961#0\n",
      "24  24.0  ped0  1284.64  722.04   86.31   1.30   18.89     -23755961#0\n",
      "25  25.0  ped0  1285.83  722.11   86.31   1.19   17.70     -23755961#0\n",
      "26  26.0  ped0  1287.19  722.20   86.31   1.36   16.34     -23755961#0\n",
      "27  27.0  ped0  1288.54  722.29   86.31   1.35   14.99     -23755961#0\n",
      "28  28.0  ped0  1289.69  722.36   86.31   1.15   13.84     -23755961#0\n",
      "29  29.0  ped0  1290.88  722.44   86.31   1.20   12.64     -23755961#0\n",
      "..   ...   ...      ...     ...     ...    ...     ...             ...\n",
      "70  70.0  ped0  1342.08  725.64   86.48   1.27    0.74     -23755961#1\n",
      "71  71.0  ped0  1343.37  725.35   86.48   1.27    3.14   :283039347_w3\n",
      "72  72.0  ped0  1344.86  725.72   70.81   1.26    1.88   :283039347_w3\n",
      "73  73.0  ped0  1345.79  726.01   85.94   1.26    0.63   :283039347_w3\n",
      "74  74.0  ped0  1346.98  726.09   85.94   1.19    5.93   :283039347_c3\n",
      "75  75.0  ped0  1348.28  726.18   85.94   1.30    4.63   :283039347_c3\n",
      "76  76.0  ped0  1349.39  726.26   85.94   1.12    3.51   :283039347_c3\n",
      "77  77.0  ped0  1350.74  726.36   85.94   1.36    2.16   :283039347_c3\n",
      "78  78.0  ped0  1351.86  726.44   85.94   1.12    1.04   :283039347_c3\n",
      "79  79.0  ped0  1353.02  726.52   85.94   1.17    3.56   :283039347_w0\n",
      "80  80.0  ped0  1354.06  726.48  102.43   1.36    2.21   :283039347_w0\n",
      "81  81.0  ped0  1355.20  726.22  102.43   1.17    1.04   :283039347_w0\n",
      "82  82.0  ped0  1356.73  726.62   85.82   1.25  190.55     -23755961#2\n",
      "83  83.0  ped0  1357.92  726.70   85.82   1.20  189.35     -23755961#2\n",
      "84  84.0  ped0  1359.05  726.79   85.82   1.13  188.22     -23755961#2\n",
      "85  85.0  ped0  1360.26  726.88   85.82   1.21  187.01     -23755961#2\n",
      "86  86.0  ped0  1361.56  726.97   85.82   1.30  185.71     -23755961#2\n",
      "87  87.0  ped0  1362.92  727.07   85.82   1.37  184.34     -23755961#2\n",
      "88  88.0  ped0  1364.07  727.15   85.82   1.15  183.19     -23755961#2\n",
      "89  89.0  ped0  1365.23  727.24   85.82   1.17  182.03     -23755961#2\n",
      "90  90.0  ped0  1366.44  727.33   85.82   1.22  180.81     -23755961#2\n",
      "91  91.0  ped0  1367.82  727.43   85.82   1.38  179.43     -23755961#2\n",
      "92  92.0  ped0  1369.10  727.52   85.82   1.28  178.15     -23755961#2\n",
      "93  93.0  ped0  1370.44  727.62   85.82   1.34  176.81     -23755961#2\n",
      "94  94.0  ped0  1371.61  727.71   85.82   1.18  175.63     -23755961#2\n",
      "95  95.0  ped0  1372.94  727.80   85.82   1.33  174.29     -23755961#2\n",
      "96  96.0  ped0  1374.24  727.90   85.82   1.30  172.99     -23755961#2\n",
      "97  97.0  ped0  1375.62  728.00   85.82   1.38  171.61     -23755961#2\n",
      "98  98.0  ped0  1376.83  728.09   85.82   1.21  170.40     -23755961#2\n",
      "99  99.0  ped0  1377.95  728.17   85.82   1.13  169.27     -23755961#2\n",
      "\n",
      "[100 rows x 8 columns]\n"
     ]
    }
   ],
   "source": [
    "ped0 = output_data.loc[output_data['id'] == 'ped0'].drop(columns=[\"slope\"]).reset_index(drop=True).copy(deep=True)\n",
    "print(ped0.head(100))"
   ]
  },
  {
   "cell_type": "code",
   "execution_count": 18,
   "metadata": {},
   "outputs": [
    {
     "data": {
      "text/plain": [
       "<matplotlib.axes._subplots.AxesSubplot at 0x1d02ce3e2e8>"
      ]
     },
     "execution_count": 18,
     "metadata": {},
     "output_type": "execute_result"
    },
    {
     "data": {
      "image/png": "[encoded data removed]",
      "text/plain": [
       "<Figure size 1080x504 with 3 Axes>"
      ]
     },
     "metadata": {},
     "output_type": "display_data"
    }
   ],
   "source": [
    "f, axes = plt.subplots(3, 1)\n",
    "sns.lineplot(x=\"time\", y=\"x\", data=ped0, ax=axes[0])\n",
    "sns.lineplot(x=\"time\", y=\"y\", data=ped0, ax=axes[1])\n",
    "sns.lineplot(x=\"time\", y=\"angle\", data=ped0, ax=axes[2])"
   ]
  },
  {
   "cell_type": "code",
   "execution_count": 19,
   "metadata": {},
   "outputs": [
    {
     "data": {
      "text/plain": [
       "<matplotlib.axes._subplots.AxesSubplot at 0x1d02d14a240>"
      ]
     },
     "execution_count": 19,
     "metadata": {},
     "output_type": "execute_result"
    },
    {
     "data": {
      "image/png": "[encoded data removed]",
      "text/plain": [
       "<Figure size 1080x504 with 1 Axes>"
      ]
     },
     "metadata": {},
     "output_type": "display_data"
    }
   ],
   "source": [
    "sns.lineplot(x=\"x\", y=\"y\", data=ped0)"
   ]
  },
  {
   "cell_type": "markdown",
   "metadata": {},
   "source": [
    "Split the pedestrian path into segments during which the pedestrian is walking in a straight line to make processing the data simpler"
   ]
  },
  {
   "cell_type": "code",
   "execution_count": 50,
   "metadata": {},
   "outputs": [
    {
     "name": "stdout",
     "output_type": "stream",
     "text": [
      "          time     id        x       y   angle id_segment\n",
      "0          0.0   ped0  1254.41  722.40   85.74         _0\n",
      "1          1.0   ped0  1255.11  722.09   85.74         _0\n",
      "2          2.0   ped0  1256.30  722.18   85.56         _0\n",
      "3          3.0   ped0  1257.68  722.29   85.56         _0\n",
      "4          4.0   ped0  1258.92  722.39   85.73         _0\n",
      "5          5.0   ped0  1260.29  722.85   85.73         _0\n",
      "6          6.0   ped0  1261.65  722.95   85.73         _0\n",
      "7          7.0   ped0  1262.87  723.04   85.73         _0\n",
      "8          8.0   ped0  1264.16  723.14   85.73         _0\n",
      "9          9.0   ped0  1265.51  723.24   85.73         _0\n",
      "10        10.0   ped0  1266.85  723.34   85.73         _0\n",
      "11        11.0   ped0  1268.13  723.43   85.73         _0\n",
      "12        12.0   ped0  1269.32  723.52   85.73         _0\n",
      "13        13.0   ped0  1270.68  723.62   85.73         _0\n",
      "14        14.0   ped0  1272.07  723.73   85.73         _0\n",
      "15        15.0   ped0  1273.18  723.81  109.20       _0_1\n",
      "16        16.0   ped0  1274.47  723.36  109.20       _0_1\n",
      "17        17.0   ped0  1275.80  722.90  109.20       _0_1\n",
      "18        18.0   ped0  1276.89  722.52  109.20       _0_1\n",
      "19        19.0   ped0  1278.05  721.73  109.20       _0_1\n",
      "20        20.0   ped0  1279.44  721.51   93.40     _0_1_2\n",
      "21        21.0   ped0  1280.93  721.44   86.31   _0_1_2_3\n",
      "22        22.0   ped0  1282.10  721.87   86.31   _0_1_2_3\n",
      "23        23.0   ped0  1283.34  721.95   86.31   _0_1_2_3\n",
      "24        24.0   ped0  1284.64  722.04   86.31   _0_1_2_3\n",
      "25        25.0   ped0  1285.83  722.11   86.31   _0_1_2_3\n",
      "26        26.0   ped0  1287.19  722.20   86.31   _0_1_2_3\n",
      "27        27.0   ped0  1288.54  722.29   86.31   _0_1_2_3\n",
      "28        28.0   ped0  1289.69  722.36   86.31   _0_1_2_3\n",
      "29        29.0   ped0  1290.88  722.44   86.31   _0_1_2_3\n",
      "...        ...    ...      ...     ...     ...        ...\n",
      "289614  1343.0  ped99   576.65  790.16  253.49           \n",
      "289615  1344.0  ped99   575.47  789.81  253.49           \n",
      "289616  1345.0  ped99   574.40  789.49  253.49           \n",
      "289617  1346.0  ped99   573.26  789.15  253.49           \n",
      "289618  1347.0  ped99   572.11  788.81  253.46           \n",
      "289619  1348.0  ped99   570.81  788.43  253.46           \n",
      "289620  1349.0  ped99   569.54  788.05  253.46           \n",
      "289621  1350.0  ped99   568.33  787.69  253.46           \n",
      "289622  1351.0  ped99   567.14  787.33  253.22           \n",
      "289623  1352.0  ped99   565.97  786.98  253.22           \n",
      "289624  1353.0  ped99   564.72  786.61  253.59           \n",
      "289625  1354.0  ped99   563.61  786.28  253.59           \n",
      "289626  1355.0  ped99   562.44  785.94  253.59           \n",
      "289627  1356.0  ped99   561.36  785.62  253.59           \n",
      "289628  1357.0  ped99   560.26  785.29  253.59           \n",
      "289629  1358.0  ped99   559.10  784.14  191.23           \n",
      "289630  1359.0  ped99   558.85  782.87  191.23           \n",
      "289631  1360.0  ped99   558.63  781.77  191.23           \n",
      "289632  1361.0  ped99   558.40  780.60  191.23           \n",
      "289633  1362.0  ped99   557.88  780.52  253.67           \n",
      "289634  1363.0  ped99   556.71  780.18  253.67           \n",
      "289635  1364.0  ped99   555.59  779.85  253.67           \n",
      "289636  1365.0  ped99   554.41  779.50  253.67           \n",
      "289637  1366.0  ped99   553.18  779.14  253.67           \n",
      "289638  1367.0  ped99   551.91  778.77  253.72           \n",
      "289639  1368.0  ped99   550.78  778.44  253.72           \n",
      "289640  1369.0  ped99   549.60  778.09  253.72           \n",
      "289641  1370.0  ped99   548.52  777.92  271.89           \n",
      "289642  1371.0  ped99   547.33  777.96  271.89           \n",
      "289643  1372.0  ped99   546.45  778.17  293.96           \n",
      "\n",
      "[289644 rows x 6 columns]\n"
     ]
    }
   ],
   "source": [
    "# Get all points for which the angle is more than 5 degrees\n",
    "# They represent turning points.\n",
    "ped_data = output_data.drop(columns=[\"speed\", \"slope\", \"edge\", \"pos\"])\n",
    "ped_data.sort_values(by=[\"id\", \"time\"], inplace=True)\n",
    "ped_data = ped_data.reset_index(drop=True)\n",
    "print(ped_data)\n",
    "turning_condition = np.abs(ped_data[\"angle\"].diff(1).fillna(0)) > 5\n",
    "indices = ped_data.index[turning_condition].tolist()\n",
    "indices.insert(0, 0)\n",
    "indices.append(len(ped_data))"
   ]
  },
  {
   "cell_type": "code",
   "execution_count": 68,
   "metadata": {},
   "outputs": [
    {
     "name": "stdout",
     "output_type": "stream",
     "text": [
      "          time     id        x       y   angle id_segment\n",
      "0          0.0   ped0  1254.41  722.40   85.74     ped0_0\n",
      "1          1.0   ped0  1255.11  722.09   85.74     ped0_0\n",
      "2          2.0   ped0  1256.30  722.18   85.56     ped0_0\n",
      "3          3.0   ped0  1257.68  722.29   85.56     ped0_0\n",
      "4          4.0   ped0  1258.92  722.39   85.73     ped0_0\n",
      "5          5.0   ped0  1260.29  722.85   85.73     ped0_0\n",
      "6          6.0   ped0  1261.65  722.95   85.73     ped0_0\n",
      "7          7.0   ped0  1262.87  723.04   85.73     ped0_0\n",
      "8          8.0   ped0  1264.16  723.14   85.73     ped0_0\n",
      "9          9.0   ped0  1265.51  723.24   85.73     ped0_0\n",
      "10        10.0   ped0  1266.85  723.34   85.73     ped0_0\n",
      "11        11.0   ped0  1268.13  723.43   85.73     ped0_0\n",
      "12        12.0   ped0  1269.32  723.52   85.73     ped0_0\n",
      "13        13.0   ped0  1270.68  723.62   85.73     ped0_0\n",
      "14        14.0   ped0  1272.07  723.73   85.73     ped0_0\n",
      "15        15.0   ped0  1273.18  723.81  109.20     ped0_1\n",
      "16        16.0   ped0  1274.47  723.36  109.20     ped0_1\n",
      "17        17.0   ped0  1275.80  722.90  109.20     ped0_1\n",
      "18        18.0   ped0  1276.89  722.52  109.20     ped0_1\n",
      "19        19.0   ped0  1278.05  721.73  109.20     ped0_1\n",
      "20        20.0   ped0  1279.44  721.51   93.40     ped0_2\n",
      "21        21.0   ped0  1280.93  721.44   86.31     ped0_3\n",
      "22        22.0   ped0  1282.10  721.87   86.31     ped0_3\n",
      "23        23.0   ped0  1283.34  721.95   86.31     ped0_3\n",
      "24        24.0   ped0  1284.64  722.04   86.31     ped0_3\n",
      "25        25.0   ped0  1285.83  722.11   86.31     ped0_3\n",
      "26        26.0   ped0  1287.19  722.20   86.31     ped0_3\n",
      "27        27.0   ped0  1288.54  722.29   86.31     ped0_3\n",
      "28        28.0   ped0  1289.69  722.36   86.31     ped0_3\n",
      "29        29.0   ped0  1290.88  722.44   86.31     ped0_3\n",
      "...        ...    ...      ...     ...     ...        ...\n",
      "289614  1343.0  ped99   576.65  790.16  253.49   ped99_49\n",
      "289615  1344.0  ped99   575.47  789.81  253.49   ped99_49\n",
      "289616  1345.0  ped99   574.40  789.49  253.49   ped99_49\n",
      "289617  1346.0  ped99   573.26  789.15  253.49   ped99_49\n",
      "289618  1347.0  ped99   572.11  788.81  253.46   ped99_49\n",
      "289619  1348.0  ped99   570.81  788.43  253.46   ped99_49\n",
      "289620  1349.0  ped99   569.54  788.05  253.46   ped99_49\n",
      "289621  1350.0  ped99   568.33  787.69  253.46   ped99_49\n",
      "289622  1351.0  ped99   567.14  787.33  253.22   ped99_49\n",
      "289623  1352.0  ped99   565.97  786.98  253.22   ped99_49\n",
      "289624  1353.0  ped99   564.72  786.61  253.59   ped99_49\n",
      "289625  1354.0  ped99   563.61  786.28  253.59   ped99_49\n",
      "289626  1355.0  ped99   562.44  785.94  253.59   ped99_49\n",
      "289627  1356.0  ped99   561.36  785.62  253.59   ped99_49\n",
      "289628  1357.0  ped99   560.26  785.29  253.59   ped99_49\n",
      "289629  1358.0  ped99   559.10  784.14  191.23   ped99_50\n",
      "289630  1359.0  ped99   558.85  782.87  191.23   ped99_50\n",
      "289631  1360.0  ped99   558.63  781.77  191.23   ped99_50\n",
      "289632  1361.0  ped99   558.40  780.60  191.23   ped99_50\n",
      "289633  1362.0  ped99   557.88  780.52  253.67   ped99_51\n",
      "289634  1363.0  ped99   556.71  780.18  253.67   ped99_51\n",
      "289635  1364.0  ped99   555.59  779.85  253.67   ped99_51\n",
      "289636  1365.0  ped99   554.41  779.50  253.67   ped99_51\n",
      "289637  1366.0  ped99   553.18  779.14  253.67   ped99_51\n",
      "289638  1367.0  ped99   551.91  778.77  253.72   ped99_51\n",
      "289639  1368.0  ped99   550.78  778.44  253.72   ped99_51\n",
      "289640  1369.0  ped99   549.60  778.09  253.72   ped99_51\n",
      "289641  1370.0  ped99   548.52  777.92  271.89   ped99_52\n",
      "289642  1371.0  ped99   547.33  777.96  271.89   ped99_52\n",
      "289643  1372.0  ped99   546.45  778.17  293.96   ped99_53\n",
      "\n",
      "[289644 rows x 6 columns]\n"
     ]
    }
   ],
   "source": [
    "# We then split the dataframe for the pedestrians at those turning points\n",
    "# We do that by just add a number next to the id of the pedestrian to be able\n",
    "# to differentiate each split from the others\n",
    "count = defaultdict(int)\n",
    "ped_data[\"id_segment\"] = \"\"\n",
    "for i in range(1, len(indices)):\n",
    "    start = indices[i-1]\n",
    "    end = indices[i]\n",
    "    index = count[ped_data.loc[start, \"id\"]]\n",
    "    count[ped_data.loc[start, \"id\"]] += 1\n",
    "    ped_data.loc[start:end-1, \"id_segment\"] = ped_data.loc[start:end-1, \"id\"].apply(lambda x: x + \"_{}\".format(index))\n",
    "    # ids = [ped_id + \"_{}\".format(index) for ped_id in ped_data.loc[start:end-1, \"id\"].values]\n",
    "    # ped_data.loc[start:end-1, \"id_segment\"] = ids\n",
    "print(ped_data)"
   ]
  },
  {
   "cell_type": "markdown",
   "metadata": {},
   "source": [
    "#### Stationarity"
   ]
  },
  {
   "cell_type": "code",
   "execution_count": 75,
   "metadata": {},
   "outputs": [
    {
     "name": "stdout",
     "output_type": "stream",
     "text": [
      "      time    id        x        y   angle id_segment\n",
      "550    4.0  ped1  1156.49  1458.43  176.55     ped1_0\n",
      "551    5.0  ped1  1156.56  1457.21  176.55     ped1_0\n",
      "552    6.0  ped1  1156.64  1456.03  176.45     ped1_0\n",
      "553    7.0  ped1  1156.71  1454.79  176.45     ped1_0\n",
      "554    8.0  ped1  1156.80  1453.41  176.45     ped1_0\n",
      "555    9.0  ped1  1156.88  1452.15  176.45     ped1_0\n",
      "556   10.0  ped1  1156.96  1450.78  176.45     ped1_0\n",
      "557   11.0  ped1  1157.04  1449.58  176.45     ped1_0\n",
      "558   12.0  ped1  1157.12  1448.28  176.45     ped1_0\n",
      "559   13.0  ped1  1157.19  1447.14  176.45     ped1_0\n",
      "560   14.0  ped1  1157.27  1445.76  176.45     ped1_0\n",
      "561   15.0  ped1  1157.34  1444.64  176.45     ped1_0\n",
      "562   16.0  ped1  1157.43  1443.29  176.45     ped1_0\n",
      "563   17.0  ped1  1157.51  1441.95  176.45     ped1_0\n",
      "564   18.0  ped1  1157.58  1440.75  176.45     ped1_0\n",
      "565   19.0  ped1  1157.66  1439.45  176.45     ped1_0\n",
      "566   20.0  ped1  1157.74  1438.24  176.45     ped1_0\n",
      "567   21.0  ped1  1157.82  1436.90  176.45     ped1_0\n",
      "568   22.0  ped1  1157.90  1435.57  176.45     ped1_0\n",
      "569   23.0  ped1  1157.99  1434.24  176.45     ped1_0\n",
      "570   24.0  ped1  1158.06  1433.02  176.45     ped1_0\n",
      "571   25.0  ped1  1158.13  1431.88  176.45     ped1_0\n",
      "572   26.0  ped1  1158.21  1430.65  176.45     ped1_0\n",
      "573   27.0  ped1  1158.28  1429.45  176.45     ped1_0\n",
      "574   28.0  ped1  1158.36  1428.16  176.45     ped1_0\n",
      "575   29.0  ped1  1158.44  1426.87  176.45     ped1_0\n",
      "576   30.0  ped1  1158.53  1425.51  176.45     ped1_0\n",
      "577   31.0  ped1  1158.61  1424.26  176.45     ped1_0\n",
      "578   32.0  ped1  1158.68  1423.13  176.45     ped1_0\n",
      "579   33.0  ped1  1158.75  1422.00  176.45     ped1_0\n",
      "..     ...   ...      ...      ...     ...        ...\n",
      "658  112.0  ped1  1166.57  1322.01  174.67     ped1_0\n",
      "659  113.0  ped1  1166.68  1320.85  174.67     ped1_0\n",
      "660  114.0  ped1  1166.79  1319.62  174.67     ped1_0\n",
      "661  115.0  ped1  1166.91  1318.42  174.67     ped1_0\n",
      "662  116.0  ped1  1167.01  1317.30  174.67     ped1_0\n",
      "663  117.0  ped1  1167.13  1316.02  174.67     ped1_0\n",
      "664  118.0  ped1  1167.25  1314.77  174.67     ped1_0\n",
      "665  119.0  ped1  1167.37  1313.50  174.67     ped1_0\n",
      "666  120.0  ped1  1167.48  1312.33  174.67     ped1_0\n",
      "667  121.0  ped1  1167.60  1311.04  174.67     ped1_0\n",
      "668  122.0  ped1  1167.72  1309.71  174.67     ped1_0\n",
      "669  123.0  ped1  1167.82  1308.59  174.67     ped1_0\n",
      "670  124.0  ped1  1167.94  1307.32  174.67     ped1_0\n",
      "671  125.0  ped1  1168.06  1306.03  174.67     ped1_0\n",
      "672  126.0  ped1  1168.18  1304.75  174.67     ped1_0\n",
      "673  127.0  ped1  1168.31  1303.38  174.67     ped1_0\n",
      "674  128.0  ped1  1168.44  1302.02  174.67     ped1_0\n",
      "675  129.0  ped1  1168.56  1300.65  174.67     ped1_0\n",
      "676  130.0  ped1  1168.67  1299.54  174.67     ped1_0\n",
      "677  131.0  ped1  1168.79  1298.29  174.67     ped1_0\n",
      "678  132.0  ped1  1168.90  1297.02  174.67     ped1_0\n",
      "679  133.0  ped1  1169.03  1295.71  174.67     ped1_0\n",
      "680  134.0  ped1  1169.15  1294.41  174.67     ped1_0\n",
      "681  135.0  ped1  1169.26  1293.22  174.67     ped1_0\n",
      "682  136.0  ped1  1169.37  1292.06  174.67     ped1_0\n",
      "683  137.0  ped1  1169.47  1290.93  174.67     ped1_0\n",
      "684  138.0  ped1  1169.59  1289.64  174.67     ped1_0\n",
      "685  139.0  ped1  1169.71  1288.41  174.67     ped1_0\n",
      "686  140.0  ped1  1169.81  1287.27  174.67     ped1_0\n",
      "687  141.0  ped1  1170.30  1285.98  174.67     ped1_0\n",
      "\n",
      "[138 rows x 6 columns]\n"
     ]
    }
   ],
   "source": [
    "ped00 = ped_data[ped_data[\"id_segment\"] == \"ped1_0\"].copy(deep=True)\n",
    "print(ped00)\n",
    "# ped00[\"x\"] = np.log(ped00[\"x\"])\n",
    "# ped00[\"y\"] = np.log(ped00[\"y\"])"
   ]
  },
  {
   "cell_type": "code",
   "execution_count": 70,
   "metadata": {},
   "outputs": [
    {
     "data": {
      "text/plain": [
       "<matplotlib.axes._subplots.AxesSubplot at 0x1d030212a58>"
      ]
     },
     "execution_count": 70,
     "metadata": {},
     "output_type": "execute_result"
    },
    {
     "data": {
      "image/png": "[encoded data removed]",
      "text/plain": [
       "<Figure size 432x288 with 2 Axes>"
      ]
     },
     "metadata": {},
     "output_type": "display_data"
    }
   ],
   "source": [
    "f, axes = plt.subplots(2, 1)\n",
    "sns.lineplot(x=\"time\", y=\"x\", data=ped00, ax=axes[0])\n",
    "sns.lineplot(x=\"time\", y=\"y\", data=ped00, ax=axes[1])"
   ]
  },
  {
   "cell_type": "code",
   "execution_count": 71,
   "metadata": {},
   "outputs": [],
   "source": [
    "ped00[\"xdiff\"] = ped00[\"x\"].diff(1)\n",
    "ped00[\"xdiff\"].fillna(0, inplace=True)"
   ]
  },
  {
   "cell_type": "code",
   "execution_count": 72,
   "metadata": {},
   "outputs": [],
   "source": [
    "ped00[\"ydiff\"] = ped00[\"y\"].diff(1)\n",
    "ped00[\"ydiff\"].fillna(0, inplace=True)"
   ]
  },
  {
   "cell_type": "code",
   "execution_count": 73,
   "metadata": {},
   "outputs": [
    {
     "data": {
      "text/plain": [
       "<matplotlib.axes._subplots.AxesSubplot at 0x1d02ffc3860>"
      ]
     },
     "execution_count": 73,
     "metadata": {},
     "output_type": "execute_result"
    },
    {
     "data": {
      "image/png": "[encoded data removed]",
      "text/plain": [
       "<Figure size 432x288 with 2 Axes>"
      ]
     },
     "metadata": {},
     "output_type": "display_data"
    }
   ],
   "source": [
    "f, axes = plt.subplots(2, 1)\n",
    "sns.lineplot(x=\"time\", y=\"xdiff\", data=ped00, ax=axes[0])\n",
    "sns.lineplot(x=\"time\", y=\"ydiff\", data=ped00, ax=axes[1])"
   ]
  },
  {
   "cell_type": "markdown",
   "metadata": {},
   "source": [
    "## Training"
   ]
  },
  {
   "cell_type": "code",
   "execution_count": 174,
   "metadata": {},
   "outputs": [],
   "source": [
    "# We compute the first difference and normalize each segment separately\n",
    "data_list = list()\n",
    "max_length = 0\n",
    "for _, segment in ped_data.groupby(\"id_segment\"):\n",
    "    segment = segment.copy(deep=True).reset_index(drop=True)\n",
    "    # segment[\"x\"] = np.log(segment[\"x\"])\n",
    "    # segment[\"y\"] = np.log(segment[\"y\"])\n",
    "    segment[\"xdiff\"] = segment[\"x\"].diff(1)\n",
    "    segment[\"xdiff\"].fillna(0, inplace=True)\n",
    "    segment[\"ydiff\"] = segment[\"y\"].diff(1)\n",
    "    segment[\"ydiff\"].fillna(0, inplace=True)\n",
    "    data_input = segment[[\"xdiff\",\"ydiff\"]].values\n",
    "    data_input = normalize(data_input, axis=0)\n",
    "    data_input = np.reshape(data_input, (-1, 2))\n",
    "    data_list.append(data_input)"
   ]
  },
  {
   "cell_type": "code",
   "execution_count": 175,
   "metadata": {},
   "outputs": [
    {
     "name": "stdout",
     "output_type": "stream",
     "text": [
      "(26, 155, 2)\n"
     ]
    }
   ],
   "source": [
    "# We pad the sequences to the length of the longest segment so that we can concatenate them and process them in batches\n",
    "# We use the value -25.0 to pad the sequences because it is unused and so can be masked easily\n",
    "pad_value = -25.0\n",
    "padded_data = pad_sequences(data_list, maxlen=None, dtype=\"float32\", padding=\"post\", value=pad_value)\n",
    "print(padded_data.shape)"
   ]
  },
  {
   "cell_type": "code",
   "execution_count": 176,
   "metadata": {},
   "outputs": [
    {
     "name": "stdout",
     "output_type": "stream",
     "text": [
      "(26, 154, 2)\n",
      "(26, 154, 2)\n"
     ]
    }
   ],
   "source": [
    "# We split the data into an input X and an output Y formed by delaying the input by one time step\n",
    "X = padded_data[:, :-1, :]\n",
    "Y = padded_data[:, 1:, :]\n",
    "print(X.shape)\n",
    "print(Y.shape)"
   ]
  },
  {
   "cell_type": "code",
   "execution_count": 177,
   "metadata": {},
   "outputs": [
    {
     "name": "stdout",
     "output_type": "stream",
     "text": [
      "_________________________________________________________________\n",
      "Layer (type)                 Output Shape              Param #   \n",
      "=================================================================\n",
      "masking_7 (Masking)          (None, 154, 2)            0         \n",
      "_________________________________________________________________\n",
      "lstm_7 (LSTM)                (None, 154, 50)           10600     \n",
      "_________________________________________________________________\n",
      "dropout_7 (Dropout)          (None, 154, 50)           0         \n",
      "_________________________________________________________________\n",
      "dense_7 (Dense)              (None, 154, 2)            102       \n",
      "=================================================================\n",
      "Total params: 10,702\n",
      "Trainable params: 10,702\n",
      "Non-trainable params: 0\n",
      "_________________________________________________________________\n",
      "None\n"
     ]
    }
   ],
   "source": [
    "# The LSTM architecture\n",
    "regressor = Sequential()\n",
    "# Masking layer to mask\n",
    "regressor.add(Masking(mask_value=pad_value, input_shape=(X.shape[1], X.shape[2])))\n",
    "# LSTM layer with Dropout regularisation\n",
    "regressor.add(LSTM(units=50, return_sequences=True,))\n",
    "regressor.add(Dropout(0.2))\n",
    "# The output layer\n",
    "regressor.add(Dense(units=2))\n",
    "print(regressor.summary())"
   ]
  },
  {
   "cell_type": "code",
   "execution_count": 178,
   "metadata": {},
   "outputs": [],
   "source": [
    "# Compiling the RNN\n",
    "regressor.compile(optimizer='rmsprop',loss='mean_squared_error')"
   ]
  },
  {
   "cell_type": "code",
   "execution_count": 179,
   "metadata": {
    "scrolled": true
   },
   "outputs": [
    {
     "name": "stdout",
     "output_type": "stream",
     "text": [
      "Epoch 1/500\n",
      "26/26 [==============================] - 3s 102ms/step - loss: 1.1967\n",
      "Epoch 2/500\n",
      "26/26 [==============================] - 0s 8ms/step - loss: 1.2722\n",
      "Epoch 3/500\n",
      "26/26 [==============================] - 0s 8ms/step - loss: 1.2620\n",
      "Epoch 4/500\n",
      "26/26 [==============================] - 0s 7ms/step - loss: 1.1596\n",
      "Epoch 5/500\n",
      "26/26 [==============================] - 0s 8ms/step - loss: 1.1588\n",
      "Epoch 6/500\n",
      "26/26 [==============================] - 0s 8ms/step - loss: 1.1708\n",
      "Epoch 7/500\n",
      "26/26 [==============================] - ETA: 0s - loss: 1.773 - 0s 8ms/step - loss: 1.3711\n",
      "Epoch 8/500\n",
      "26/26 [==============================] - 0s 8ms/step - loss: 1.3232\n",
      "Epoch 9/500\n",
      "26/26 [==============================] - 0s 8ms/step - loss: 1.2576\n",
      "Epoch 10/500\n",
      "26/26 [==============================] - 0s 8ms/step - loss: 1.3415\n",
      "Epoch 11/500\n",
      "26/26 [==============================] - 0s 8ms/step - loss: 1.3139\n",
      "Epoch 12/500\n",
      "26/26 [==============================] - 0s 8ms/step - loss: 1.1800\n",
      "Epoch 13/500\n",
      "26/26 [==============================] - 0s 8ms/step - loss: 1.1869\n",
      "Epoch 14/500\n",
      "26/26 [==============================] - 0s 10ms/step - loss: 1.2901\n",
      "Epoch 15/500\n",
      "26/26 [==============================] - 0s 7ms/step - loss: 1.2242\n",
      "Epoch 16/500\n",
      "26/26 [==============================] - 0s 9ms/step - loss: 1.3656\n",
      "Epoch 17/500\n",
      "26/26 [==============================] - 0s 8ms/step - loss: 1.1421\n",
      "Epoch 18/500\n",
      "26/26 [==============================] - 0s 8ms/step - loss: 1.2898\n",
      "Epoch 19/500\n",
      "26/26 [==============================] - 0s 10ms/step - loss: 1.1517\n",
      "Epoch 20/500\n",
      "26/26 [==============================] - 0s 9ms/step - loss: 1.1310\n",
      "Epoch 21/500\n",
      "26/26 [==============================] - 0s 10ms/step - loss: 1.1469\n",
      "Epoch 22/500\n",
      "26/26 [==============================] - 0s 10ms/step - loss: 1.1424\n",
      "Epoch 23/500\n",
      "26/26 [==============================] - 0s 9ms/step - loss: 1.4396\n",
      "Epoch 24/500\n",
      "26/26 [==============================] - 0s 11ms/step - loss: 1.3589\n",
      "Epoch 25/500\n",
      "26/26 [==============================] - 0s 9ms/step - loss: 1.3222\n",
      "Epoch 26/500\n",
      "26/26 [==============================] - 0s 8ms/step - loss: 1.1408\n",
      "Epoch 27/500\n",
      "26/26 [==============================] - 0s 8ms/step - loss: 3.1025\n",
      "Epoch 28/500\n",
      "26/26 [==============================] - 0s 11ms/step - loss: 2.5635\n",
      "Epoch 29/500\n",
      "26/26 [==============================] - 0s 10ms/step - loss: 1.4105\n",
      "Epoch 30/500\n",
      "26/26 [==============================] - 0s 9ms/step - loss: 1.1134\n",
      "Epoch 31/500\n",
      "26/26 [==============================] - 0s 10ms/step - loss: 1.1398\n",
      "Epoch 32/500\n",
      "26/26 [==============================] - 0s 10ms/step - loss: 1.2733\n",
      "Epoch 33/500\n",
      "26/26 [==============================] - 0s 8ms/step - loss: 1.1087\n",
      "Epoch 34/500\n",
      "26/26 [==============================] - 0s 11ms/step - loss: 1.1842\n",
      "Epoch 35/500\n",
      "26/26 [==============================] - 0s 9ms/step - loss: 1.0833\n",
      "Epoch 36/500\n",
      "26/26 [==============================] - 0s 9ms/step - loss: 1.1570\n",
      "Epoch 37/500\n",
      "26/26 [==============================] - 0s 10ms/step - loss: 1.0991\n",
      "Epoch 38/500\n",
      "26/26 [==============================] - 0s 8ms/step - loss: 1.1017\n",
      "Epoch 39/500\n",
      "26/26 [==============================] - 0s 9ms/step - loss: 1.1120\n",
      "Epoch 40/500\n",
      "26/26 [==============================] - 0s 9ms/step - loss: 1.2470\n",
      "Epoch 41/500\n",
      "26/26 [==============================] - 0s 10ms/step - loss: 1.2403\n",
      "Epoch 42/500\n",
      "26/26 [==============================] - 0s 8ms/step - loss: 1.7573\n",
      "Epoch 43/500\n",
      "26/26 [==============================] - 0s 9ms/step - loss: 1.0733\n",
      "Epoch 44/500\n",
      "26/26 [==============================] - 0s 9ms/step - loss: 1.0977\n",
      "Epoch 45/500\n",
      "26/26 [==============================] - 0s 8ms/step - loss: 1.0672\n",
      "Epoch 46/500\n",
      "26/26 [==============================] - 0s 9ms/step - loss: 1.0995\n",
      "Epoch 47/500\n",
      "26/26 [==============================] - 0s 7ms/step - loss: 1.0982\n",
      "Epoch 48/500\n",
      "26/26 [==============================] - 0s 7ms/step - loss: 2.0907\n",
      "Epoch 49/500\n",
      "26/26 [==============================] - 0s 8ms/step - loss: 1.9017\n",
      "Epoch 50/500\n",
      "26/26 [==============================] - 0s 8ms/step - loss: 1.2921\n",
      "Epoch 51/500\n",
      "26/26 [==============================] - 0s 7ms/step - loss: 1.0792\n",
      "Epoch 52/500\n",
      "26/26 [==============================] - 0s 8ms/step - loss: 1.0439\n",
      "Epoch 53/500\n",
      "26/26 [==============================] - 0s 8ms/step - loss: 1.3919\n",
      "Epoch 54/500\n",
      "26/26 [==============================] - 0s 7ms/step - loss: 1.0501\n",
      "Epoch 55/500\n",
      "26/26 [==============================] - 0s 8ms/step - loss: 1.3151\n",
      "Epoch 56/500\n",
      "26/26 [==============================] - 0s 8ms/step - loss: 1.1132\n",
      "Epoch 57/500\n",
      "26/26 [==============================] - 0s 8ms/step - loss: 1.0466\n",
      "Epoch 58/500\n",
      "26/26 [==============================] - 0s 8ms/step - loss: 1.7642\n",
      "Epoch 59/500\n",
      "26/26 [==============================] - 0s 7ms/step - loss: 1.0270\n",
      "Epoch 60/500\n",
      "26/26 [==============================] - 0s 8ms/step - loss: 1.4984\n",
      "Epoch 61/500\n",
      "26/26 [==============================] - 0s 8ms/step - loss: 2.0943\n",
      "Epoch 62/500\n",
      "26/26 [==============================] - 0s 8ms/step - loss: 1.3330\n",
      "Epoch 63/500\n",
      "26/26 [==============================] - 0s 8ms/step - loss: 1.0351\n",
      "Epoch 64/500\n",
      "26/26 [==============================] - 0s 7ms/step - loss: 1.0449\n",
      "Epoch 65/500\n",
      "26/26 [==============================] - 0s 12ms/step - loss: 1.3369\n",
      "Epoch 66/500\n",
      "26/26 [==============================] - 0s 9ms/step - loss: 1.0274\n",
      "Epoch 67/500\n",
      "26/26 [==============================] - 0s 8ms/step - loss: 1.0857\n",
      "Epoch 68/500\n",
      "26/26 [==============================] - 0s 8ms/step - loss: 1.3337\n",
      "Epoch 69/500\n",
      "26/26 [==============================] - 0s 8ms/step - loss: 1.3182\n",
      "Epoch 70/500\n",
      "26/26 [==============================] - 0s 7ms/step - loss: 1.1432\n",
      "Epoch 71/500\n",
      "26/26 [==============================] - 0s 8ms/step - loss: 1.0374\n",
      "Epoch 72/500\n",
      "26/26 [==============================] - 0s 8ms/step - loss: 1.0934\n",
      "Epoch 73/500\n",
      "26/26 [==============================] - 0s 8ms/step - loss: 1.3533\n",
      "Epoch 74/500\n",
      "26/26 [==============================] - 0s 8ms/step - loss: 1.0446\n",
      "Epoch 75/500\n",
      "26/26 [==============================] - 0s 8ms/step - loss: 1.1492\n",
      "Epoch 76/500\n",
      "26/26 [==============================] - 0s 8ms/step - loss: 1.1040\n",
      "Epoch 77/500\n",
      "26/26 [==============================] - 0s 8ms/step - loss: 1.0994\n",
      "Epoch 78/500\n",
      "26/26 [==============================] - 0s 7ms/step - loss: 1.1220\n",
      "Epoch 79/500\n",
      "26/26 [==============================] - 0s 7ms/step - loss: 1.0760\n",
      "Epoch 80/500\n",
      "26/26 [==============================] - 0s 9ms/step - loss: 1.1409\n",
      "Epoch 81/500\n",
      "26/26 [==============================] - 0s 10ms/step - loss: 1.2341\n",
      "Epoch 82/500\n",
      "26/26 [==============================] - 0s 10ms/step - loss: 2.0416\n",
      "Epoch 83/500\n",
      "26/26 [==============================] - 0s 7ms/step - loss: 1.2279\n",
      "Epoch 84/500\n",
      "26/26 [==============================] - 0s 8ms/step - loss: 1.0052\n",
      "Epoch 85/500\n",
      "26/26 [==============================] - 0s 8ms/step - loss: 1.0129\n",
      "Epoch 86/500\n",
      "26/26 [==============================] - 0s 8ms/step - loss: 0.9989\n",
      "Epoch 87/500\n",
      "26/26 [==============================] - 0s 7ms/step - loss: 1.0707\n",
      "Epoch 88/500\n",
      "26/26 [==============================] - 0s 8ms/step - loss: 1.0099\n",
      "Epoch 89/500\n",
      "26/26 [==============================] - 0s 8ms/step - loss: 1.0135\n",
      "Epoch 90/500\n",
      "26/26 [==============================] - 0s 7ms/step - loss: 1.0150\n",
      "Epoch 91/500\n",
      "26/26 [==============================] - 0s 8ms/step - loss: 1.0491\n",
      "Epoch 92/500\n",
      "26/26 [==============================] - 0s 9ms/step - loss: 1.1109\n",
      "Epoch 93/500\n",
      "26/26 [==============================] - 0s 9ms/step - loss: 1.0252\n",
      "Epoch 94/500\n",
      "26/26 [==============================] - 0s 10ms/step - loss: 2.3200\n",
      "Epoch 95/500\n",
      "26/26 [==============================] - 0s 9ms/step - loss: 1.2582\n",
      "Epoch 96/500\n",
      "26/26 [==============================] - 0s 9ms/step - loss: 1.7408\n",
      "Epoch 97/500\n",
      "26/26 [==============================] - 0s 9ms/step - loss: 1.1935\n",
      "Epoch 98/500\n",
      "26/26 [==============================] - 0s 9ms/step - loss: 1.0431\n",
      "Epoch 99/500\n",
      "26/26 [==============================] - 0s 8ms/step - loss: 0.9795\n",
      "Epoch 100/500\n",
      "26/26 [==============================] - 0s 9ms/step - loss: 1.6150\n",
      "Epoch 101/500\n"
     ]
    },
    {
     "name": "stdout",
     "output_type": "stream",
     "text": [
      "26/26 [==============================] - 0s 8ms/step - loss: 0.9836\n",
      "Epoch 102/500\n",
      "26/26 [==============================] - 0s 9ms/step - loss: 0.9962\n",
      "Epoch 103/500\n",
      "26/26 [==============================] - 0s 8ms/step - loss: 0.9798\n",
      "Epoch 104/500\n",
      "26/26 [==============================] - 0s 9ms/step - loss: 0.9780\n",
      "Epoch 105/500\n",
      "26/26 [==============================] - 0s 9ms/step - loss: 1.0096\n",
      "Epoch 106/500\n",
      "26/26 [==============================] - 0s 8ms/step - loss: 0.9986\n",
      "Epoch 107/500\n",
      "26/26 [==============================] - 0s 8ms/step - loss: 1.2431\n",
      "Epoch 108/500\n",
      "26/26 [==============================] - 0s 8ms/step - loss: 1.0142\n",
      "Epoch 109/500\n",
      "26/26 [==============================] - 0s 8ms/step - loss: 1.1265\n",
      "Epoch 110/500\n",
      "26/26 [==============================] - 0s 9ms/step - loss: 1.1221\n",
      "Epoch 111/500\n",
      "26/26 [==============================] - 0s 10ms/step - loss: 1.4449\n",
      "Epoch 112/500\n",
      "26/26 [==============================] - 0s 9ms/step - loss: 0.9969\n",
      "Epoch 113/500\n",
      "26/26 [==============================] - 0s 8ms/step - loss: 1.0596\n",
      "Epoch 114/500\n",
      "26/26 [==============================] - 0s 8ms/step - loss: 0.9785\n",
      "Epoch 115/500\n",
      "26/26 [==============================] - 0s 8ms/step - loss: 0.9789\n",
      "Epoch 116/500\n",
      "26/26 [==============================] - 0s 7ms/step - loss: 1.1383\n",
      "Epoch 117/500\n",
      "26/26 [==============================] - 0s 7ms/step - loss: 0.9838\n",
      "Epoch 118/500\n",
      "26/26 [==============================] - 0s 7ms/step - loss: 1.1139\n",
      "Epoch 119/500\n",
      "26/26 [==============================] - 0s 7ms/step - loss: 1.3400\n",
      "Epoch 120/500\n",
      "26/26 [==============================] - 0s 7ms/step - loss: 1.1948\n",
      "Epoch 121/500\n",
      "26/26 [==============================] - 0s 7ms/step - loss: 1.1952\n",
      "Epoch 122/500\n",
      "26/26 [==============================] - 0s 7ms/step - loss: 1.0107\n",
      "Epoch 123/500\n",
      "26/26 [==============================] - 0s 8ms/step - loss: 1.1765\n",
      "Epoch 124/500\n",
      "26/26 [==============================] - 0s 7ms/step - loss: 1.0548\n",
      "Epoch 125/500\n",
      "26/26 [==============================] - 0s 7ms/step - loss: 0.9827\n",
      "Epoch 126/500\n",
      "26/26 [==============================] - 0s 7ms/step - loss: 0.9433\n",
      "Epoch 127/500\n",
      "26/26 [==============================] - 0s 7ms/step - loss: 0.9776\n",
      "Epoch 128/500\n",
      "26/26 [==============================] - 0s 7ms/step - loss: 1.3812\n",
      "Epoch 129/500\n",
      "26/26 [==============================] - 0s 8ms/step - loss: 1.1999\n",
      "Epoch 130/500\n",
      "26/26 [==============================] - 0s 8ms/step - loss: 1.0288\n",
      "Epoch 131/500\n",
      "26/26 [==============================] - 0s 8ms/step - loss: 0.9439\n",
      "Epoch 132/500\n",
      "26/26 [==============================] - 0s 7ms/step - loss: 1.6839\n",
      "Epoch 133/500\n",
      "26/26 [==============================] - 0s 7ms/step - loss: 1.1632\n",
      "Epoch 134/500\n",
      "26/26 [==============================] - 0s 8ms/step - loss: 0.9873\n",
      "Epoch 135/500\n",
      "26/26 [==============================] - 0s 8ms/step - loss: 1.4202\n",
      "Epoch 136/500\n",
      "26/26 [==============================] - 0s 8ms/step - loss: 0.9590\n",
      "Epoch 137/500\n",
      "26/26 [==============================] - 0s 8ms/step - loss: 1.0190\n",
      "Epoch 138/500\n",
      "26/26 [==============================] - 0s 7ms/step - loss: 0.9721\n",
      "Epoch 139/500\n",
      "26/26 [==============================] - 0s 7ms/step - loss: 0.9589\n",
      "Epoch 140/500\n",
      "26/26 [==============================] - 0s 7ms/step - loss: 1.5786\n",
      "Epoch 141/500\n",
      "26/26 [==============================] - 0s 8ms/step - loss: 1.0778\n",
      "Epoch 142/500\n",
      "26/26 [==============================] - 0s 9ms/step - loss: 1.2172\n",
      "Epoch 143/500\n",
      "26/26 [==============================] - 0s 8ms/step - loss: 0.9535\n",
      "Epoch 144/500\n",
      "26/26 [==============================] - 0s 7ms/step - loss: 1.0467\n",
      "Epoch 145/500\n",
      "26/26 [==============================] - 0s 8ms/step - loss: 1.0463\n",
      "Epoch 146/500\n",
      "26/26 [==============================] - 0s 7ms/step - loss: 0.9381\n",
      "Epoch 147/500\n",
      "26/26 [==============================] - 0s 8ms/step - loss: 1.9147\n",
      "Epoch 148/500\n",
      "26/26 [==============================] - 0s 9ms/step - loss: 1.1222\n",
      "Epoch 149/500\n",
      "26/26 [==============================] - 0s 8ms/step - loss: 1.0112\n",
      "Epoch 150/500\n",
      "26/26 [==============================] - 0s 8ms/step - loss: 0.9980\n",
      "Epoch 151/500\n",
      "26/26 [==============================] - 0s 10ms/step - loss: 1.0708\n",
      "Epoch 152/500\n",
      "26/26 [==============================] - 0s 8ms/step - loss: 0.9966\n",
      "Epoch 153/500\n",
      "26/26 [==============================] - 0s 10ms/step - loss: 1.2227\n",
      "Epoch 154/500\n",
      "26/26 [==============================] - 0s 11ms/step - loss: 1.4600\n",
      "Epoch 155/500\n",
      "26/26 [==============================] - 0s 9ms/step - loss: 1.3406\n",
      "Epoch 156/500\n",
      "26/26 [==============================] - 0s 9ms/step - loss: 0.9337\n",
      "Epoch 157/500\n",
      "26/26 [==============================] - 0s 8ms/step - loss: 0.9307\n",
      "Epoch 158/500\n",
      "26/26 [==============================] - 0s 7ms/step - loss: 0.9249\n",
      "Epoch 159/500\n",
      "26/26 [==============================] - 0s 7ms/step - loss: 1.0526\n",
      "Epoch 160/500\n",
      "26/26 [==============================] - 0s 8ms/step - loss: 1.7245\n",
      "Epoch 161/500\n",
      "26/26 [==============================] - 0s 7ms/step - loss: 0.9187\n",
      "Epoch 162/500\n",
      "26/26 [==============================] - 0s 7ms/step - loss: 0.9321\n",
      "Epoch 163/500\n",
      "26/26 [==============================] - 0s 7ms/step - loss: 2.3390\n",
      "Epoch 164/500\n",
      "26/26 [==============================] - 0s 7ms/step - loss: 0.9416\n",
      "Epoch 165/500\n",
      "26/26 [==============================] - 0s 8ms/step - loss: 1.1488\n",
      "Epoch 166/500\n",
      "26/26 [==============================] - 0s 7ms/step - loss: 0.9241\n",
      "Epoch 167/500\n",
      "26/26 [==============================] - 0s 8ms/step - loss: 1.0321\n",
      "Epoch 168/500\n",
      "26/26 [==============================] - 0s 9ms/step - loss: 0.9360\n",
      "Epoch 169/500\n",
      "26/26 [==============================] - 0s 9ms/step - loss: 0.9314\n",
      "Epoch 170/500\n",
      "26/26 [==============================] - 0s 8ms/step - loss: 0.9158\n",
      "Epoch 171/500\n",
      "26/26 [==============================] - 0s 9ms/step - loss: 1.2479\n",
      "Epoch 172/500\n",
      "26/26 [==============================] - 0s 9ms/step - loss: 1.0630\n",
      "Epoch 173/500\n",
      "26/26 [==============================] - 0s 9ms/step - loss: 0.9762\n",
      "Epoch 174/500\n",
      "26/26 [==============================] - 0s 8ms/step - loss: 0.9604\n",
      "Epoch 175/500\n",
      "26/26 [==============================] - 0s 8ms/step - loss: 1.0263\n",
      "Epoch 176/500\n",
      "26/26 [==============================] - 0s 7ms/step - loss: 1.6461\n",
      "Epoch 177/500\n",
      "26/26 [==============================] - 0s 8ms/step - loss: 1.0873\n",
      "Epoch 178/500\n",
      "26/26 [==============================] - 0s 7ms/step - loss: 0.9096\n",
      "Epoch 179/500\n",
      "26/26 [==============================] - 0s 8ms/step - loss: 1.0360\n",
      "Epoch 180/500\n",
      "26/26 [==============================] - 0s 7ms/step - loss: 1.3466\n",
      "Epoch 181/500\n",
      "26/26 [==============================] - 0s 9ms/step - loss: 0.9455\n",
      "Epoch 182/500\n",
      "26/26 [==============================] - 0s 10ms/step - loss: 0.9917\n",
      "Epoch 183/500\n",
      "26/26 [==============================] - 0s 9ms/step - loss: 0.9191\n",
      "Epoch 184/500\n",
      "26/26 [==============================] - 0s 9ms/step - loss: 1.5030\n",
      "Epoch 185/500\n",
      "26/26 [==============================] - 0s 8ms/step - loss: 0.9219\n",
      "Epoch 186/500\n",
      "26/26 [==============================] - 0s 9ms/step - loss: 0.9481\n",
      "Epoch 187/500\n",
      "26/26 [==============================] - 0s 9ms/step - loss: 1.2116\n",
      "Epoch 188/500\n",
      "26/26 [==============================] - 0s 9ms/step - loss: 0.9139\n",
      "Epoch 189/500\n",
      "26/26 [==============================] - 0s 9ms/step - loss: 0.9577\n",
      "Epoch 190/500\n",
      "26/26 [==============================] - 0s 8ms/step - loss: 0.9754\n",
      "Epoch 191/500\n",
      "26/26 [==============================] - 0s 7ms/step - loss: 0.9055\n",
      "Epoch 192/500\n",
      "26/26 [==============================] - 0s 7ms/step - loss: 3.9488\n",
      "Epoch 193/500\n",
      "26/26 [==============================] - 0s 7ms/step - loss: 1.2769\n",
      "Epoch 194/500\n",
      "26/26 [==============================] - 0s 8ms/step - loss: 0.9261\n",
      "Epoch 195/500\n",
      "26/26 [==============================] - 0s 8ms/step - loss: 0.9501\n",
      "Epoch 196/500\n",
      "26/26 [==============================] - 0s 7ms/step - loss: 0.9048\n",
      "Epoch 197/500\n",
      "26/26 [==============================] - 0s 7ms/step - loss: 1.0594\n",
      "Epoch 198/500\n",
      "26/26 [==============================] - 0s 7ms/step - loss: 1.8959\n",
      "Epoch 199/500\n",
      "26/26 [==============================] - 0s 7ms/step - loss: 1.0824\n",
      "Epoch 200/500\n",
      "26/26 [==============================] - 0s 7ms/step - loss: 0.9943\n",
      "Epoch 201/500\n"
     ]
    },
    {
     "name": "stdout",
     "output_type": "stream",
     "text": [
      "26/26 [==============================] - 0s 7ms/step - loss: 1.1149\n",
      "Epoch 202/500\n",
      "26/26 [==============================] - 0s 7ms/step - loss: 1.1403\n",
      "Epoch 203/500\n",
      "26/26 [==============================] - 0s 8ms/step - loss: 1.3893\n",
      "Epoch 204/500\n",
      "26/26 [==============================] - 0s 8ms/step - loss: 1.0512\n",
      "Epoch 205/500\n",
      "26/26 [==============================] - 0s 8ms/step - loss: 1.3773\n",
      "Epoch 206/500\n",
      "26/26 [==============================] - 0s 7ms/step - loss: 1.4177\n",
      "Epoch 207/500\n",
      "26/26 [==============================] - 0s 7ms/step - loss: 0.9685\n",
      "Epoch 208/500\n",
      "26/26 [==============================] - 0s 8ms/step - loss: 1.3601\n",
      "Epoch 209/500\n",
      "26/26 [==============================] - 0s 7ms/step - loss: 0.9453\n",
      "Epoch 210/500\n",
      "26/26 [==============================] - 0s 8ms/step - loss: 1.0150\n",
      "Epoch 211/500\n",
      "26/26 [==============================] - 0s 7ms/step - loss: 0.9409\n",
      "Epoch 212/500\n",
      "26/26 [==============================] - 0s 8ms/step - loss: 0.9521\n",
      "Epoch 213/500\n",
      "26/26 [==============================] - 0s 8ms/step - loss: 0.9724\n",
      "Epoch 214/500\n",
      "26/26 [==============================] - 0s 7ms/step - loss: 1.3616\n",
      "Epoch 215/500\n",
      "26/26 [==============================] - 0s 7ms/step - loss: 0.9738\n",
      "Epoch 216/500\n",
      "26/26 [==============================] - 0s 8ms/step - loss: 1.0388\n",
      "Epoch 217/500\n",
      "26/26 [==============================] - 0s 7ms/step - loss: 1.1269\n",
      "Epoch 218/500\n",
      "26/26 [==============================] - 0s 7ms/step - loss: 0.9387\n",
      "Epoch 219/500\n",
      "26/26 [==============================] - 0s 7ms/step - loss: 1.1364\n",
      "Epoch 220/500\n",
      "26/26 [==============================] - 0s 8ms/step - loss: 0.9173\n",
      "Epoch 221/500\n",
      "26/26 [==============================] - 0s 8ms/step - loss: 2.3218\n",
      "Epoch 222/500\n",
      "26/26 [==============================] - 0s 7ms/step - loss: 1.2009\n",
      "Epoch 223/500\n",
      "26/26 [==============================] - 0s 7ms/step - loss: 0.9706\n",
      "Epoch 224/500\n",
      "26/26 [==============================] - 0s 7ms/step - loss: 1.3369\n",
      "Epoch 225/500\n",
      "26/26 [==============================] - 0s 7ms/step - loss: 0.9124\n",
      "Epoch 226/500\n",
      "26/26 [==============================] - 0s 7ms/step - loss: 0.9029\n",
      "Epoch 227/500\n",
      "26/26 [==============================] - 0s 7ms/step - loss: 0.8863\n",
      "Epoch 228/500\n",
      "26/26 [==============================] - 0s 7ms/step - loss: 1.0124\n",
      "Epoch 229/500\n",
      "26/26 [==============================] - 0s 7ms/step - loss: 0.8751\n",
      "Epoch 230/500\n",
      "26/26 [==============================] - 0s 8ms/step - loss: 0.8990\n",
      "Epoch 231/500\n",
      "26/26 [==============================] - 0s 7ms/step - loss: 1.0244\n",
      "Epoch 232/500\n",
      "26/26 [==============================] - 0s 7ms/step - loss: 0.8813\n",
      "Epoch 233/500\n",
      "26/26 [==============================] - 0s 7ms/step - loss: 2.2876\n",
      "Epoch 234/500\n",
      "26/26 [==============================] - 0s 7ms/step - loss: 1.3123\n",
      "Epoch 235/500\n",
      "26/26 [==============================] - 0s 7ms/step - loss: 0.9120\n",
      "Epoch 236/500\n",
      "26/26 [==============================] - 0s 7ms/step - loss: 0.8986\n",
      "Epoch 237/500\n",
      "26/26 [==============================] - 0s 7ms/step - loss: 0.9923\n",
      "Epoch 238/500\n",
      "26/26 [==============================] - 0s 7ms/step - loss: 1.0411\n",
      "Epoch 239/500\n",
      "26/26 [==============================] - 0s 8ms/step - loss: 0.9193\n",
      "Epoch 240/500\n",
      "26/26 [==============================] - 0s 8ms/step - loss: 0.8945\n",
      "Epoch 241/500\n",
      "26/26 [==============================] - 0s 7ms/step - loss: 0.9359\n",
      "Epoch 242/500\n",
      "26/26 [==============================] - 0s 8ms/step - loss: 0.8875\n",
      "Epoch 243/500\n",
      "26/26 [==============================] - 0s 7ms/step - loss: 0.8711\n",
      "Epoch 244/500\n",
      "26/26 [==============================] - 0s 8ms/step - loss: 0.9032\n",
      "Epoch 245/500\n",
      "26/26 [==============================] - 0s 8ms/step - loss: 0.9140\n",
      "Epoch 246/500\n",
      "26/26 [==============================] - 0s 8ms/step - loss: 0.9505\n",
      "Epoch 247/500\n",
      "26/26 [==============================] - 0s 8ms/step - loss: 0.9741\n",
      "Epoch 248/500\n",
      "26/26 [==============================] - 0s 9ms/step - loss: 1.4413\n",
      "Epoch 249/500\n",
      "26/26 [==============================] - 0s 9ms/step - loss: 0.9273\n",
      "Epoch 250/500\n",
      "26/26 [==============================] - 0s 9ms/step - loss: 1.2279\n",
      "Epoch 251/500\n",
      "26/26 [==============================] - 0s 9ms/step - loss: 0.8736\n",
      "Epoch 252/500\n",
      "26/26 [==============================] - 0s 8ms/step - loss: 0.9299\n",
      "Epoch 253/500\n",
      "26/26 [==============================] - 0s 8ms/step - loss: 0.9753\n",
      "Epoch 254/500\n",
      "26/26 [==============================] - 0s 8ms/step - loss: 0.8993\n",
      "Epoch 255/500\n",
      "26/26 [==============================] - 0s 8ms/step - loss: 1.4239\n",
      "Epoch 256/500\n",
      "26/26 [==============================] - 0s 10ms/step - loss: 0.9662\n",
      "Epoch 257/500\n",
      "26/26 [==============================] - 0s 9ms/step - loss: 1.1453\n",
      "Epoch 258/500\n",
      "26/26 [==============================] - 0s 10ms/step - loss: 0.9532\n",
      "Epoch 259/500\n",
      "26/26 [==============================] - 0s 9ms/step - loss: 1.0556\n",
      "Epoch 260/500\n",
      "26/26 [==============================] - 0s 8ms/step - loss: 0.9073\n",
      "Epoch 261/500\n",
      "26/26 [==============================] - 0s 9ms/step - loss: 0.8818\n",
      "Epoch 262/500\n",
      "26/26 [==============================] - 0s 8ms/step - loss: 1.0414\n",
      "Epoch 263/500\n",
      "26/26 [==============================] - 0s 8ms/step - loss: 1.0381\n",
      "Epoch 264/500\n",
      "26/26 [==============================] - 0s 9ms/step - loss: 0.8795\n",
      "Epoch 265/500\n",
      "26/26 [==============================] - 0s 8ms/step - loss: 0.8956\n",
      "Epoch 266/500\n",
      "26/26 [==============================] - 0s 8ms/step - loss: 0.9180\n",
      "Epoch 267/500\n",
      "26/26 [==============================] - 0s 8ms/step - loss: 0.9863\n",
      "Epoch 268/500\n",
      "26/26 [==============================] - 0s 7ms/step - loss: 0.9450\n",
      "Epoch 269/500\n",
      "26/26 [==============================] - 0s 7ms/step - loss: 0.9481\n",
      "Epoch 270/500\n",
      "26/26 [==============================] - 0s 8ms/step - loss: 0.9076\n",
      "Epoch 271/500\n",
      "26/26 [==============================] - 0s 7ms/step - loss: 0.9906\n",
      "Epoch 272/500\n",
      "26/26 [==============================] - 0s 7ms/step - loss: 0.9623\n",
      "Epoch 273/500\n",
      "26/26 [==============================] - 0s 7ms/step - loss: 0.8996\n",
      "Epoch 274/500\n",
      "26/26 [==============================] - 0s 8ms/step - loss: 0.8615\n",
      "Epoch 275/500\n",
      "26/26 [==============================] - 0s 7ms/step - loss: 1.7277\n",
      "Epoch 276/500\n",
      "26/26 [==============================] - 0s 8ms/step - loss: 1.0108\n",
      "Epoch 277/500\n",
      "26/26 [==============================] - 0s 7ms/step - loss: 0.9165\n",
      "Epoch 278/500\n",
      "26/26 [==============================] - 0s 7ms/step - loss: 0.9422\n",
      "Epoch 279/500\n",
      "26/26 [==============================] - 0s 8ms/step - loss: 0.9172\n",
      "Epoch 280/500\n",
      "26/26 [==============================] - 0s 7ms/step - loss: 0.9491\n",
      "Epoch 281/500\n",
      "26/26 [==============================] - 0s 7ms/step - loss: 0.9183\n",
      "Epoch 282/500\n",
      "26/26 [==============================] - 0s 8ms/step - loss: 0.9944\n",
      "Epoch 283/500\n",
      "26/26 [==============================] - 0s 7ms/step - loss: 0.9106\n",
      "Epoch 284/500\n",
      "26/26 [==============================] - 0s 8ms/step - loss: 0.8679\n",
      "Epoch 285/500\n",
      "26/26 [==============================] - 0s 7ms/step - loss: 0.8770\n",
      "Epoch 286/500\n",
      "26/26 [==============================] - 0s 8ms/step - loss: 1.3607\n",
      "Epoch 287/500\n",
      "26/26 [==============================] - 0s 8ms/step - loss: 1.0097\n",
      "Epoch 288/500\n",
      "26/26 [==============================] - 0s 8ms/step - loss: 0.9278\n",
      "Epoch 289/500\n",
      "26/26 [==============================] - 0s 7ms/step - loss: 1.0632\n",
      "Epoch 290/500\n",
      "26/26 [==============================] - 0s 7ms/step - loss: 0.9224\n",
      "Epoch 291/500\n",
      "26/26 [==============================] - 0s 7ms/step - loss: 0.9234\n",
      "Epoch 292/500\n",
      "26/26 [==============================] - 0s 7ms/step - loss: 0.9383\n",
      "Epoch 293/500\n",
      "26/26 [==============================] - 0s 8ms/step - loss: 1.0779\n",
      "Epoch 294/500\n",
      "26/26 [==============================] - 0s 8ms/step - loss: 1.9320\n",
      "Epoch 295/500\n",
      "26/26 [==============================] - 0s 8ms/step - loss: 0.9382\n",
      "Epoch 296/500\n",
      "26/26 [==============================] - 0s 7ms/step - loss: 1.7589\n",
      "Epoch 297/500\n",
      "26/26 [==============================] - 0s 8ms/step - loss: 0.9367\n",
      "Epoch 298/500\n",
      "26/26 [==============================] - 0s 7ms/step - loss: 1.0012\n",
      "Epoch 299/500\n",
      "26/26 [==============================] - 0s 7ms/step - loss: 1.0252\n",
      "Epoch 300/500\n",
      "26/26 [==============================] - 0s 7ms/step - loss: 1.0712\n",
      "Epoch 301/500\n"
     ]
    },
    {
     "name": "stdout",
     "output_type": "stream",
     "text": [
      "26/26 [==============================] - 0s 7ms/step - loss: 1.1208\n",
      "Epoch 302/500\n",
      "26/26 [==============================] - 0s 8ms/step - loss: 0.9480\n",
      "Epoch 303/500\n",
      "26/26 [==============================] - 0s 7ms/step - loss: 1.7261\n",
      "Epoch 304/500\n",
      "26/26 [==============================] - 0s 7ms/step - loss: 0.9481\n",
      "Epoch 305/500\n",
      "26/26 [==============================] - 0s 8ms/step - loss: 0.8575\n",
      "Epoch 306/500\n",
      "26/26 [==============================] - 0s 7ms/step - loss: 0.9425\n",
      "Epoch 307/500\n",
      "26/26 [==============================] - 0s 7ms/step - loss: 0.9421\n",
      "Epoch 308/500\n",
      "26/26 [==============================] - 0s 8ms/step - loss: 0.9651\n",
      "Epoch 309/500\n",
      "26/26 [==============================] - 0s 7ms/step - loss: 0.9201\n",
      "Epoch 310/500\n",
      "26/26 [==============================] - 0s 7ms/step - loss: 0.9348\n",
      "Epoch 311/500\n",
      "26/26 [==============================] - 0s 7ms/step - loss: 1.5269\n",
      "Epoch 312/500\n",
      "26/26 [==============================] - 0s 7ms/step - loss: 0.8749\n",
      "Epoch 313/500\n",
      "26/26 [==============================] - 0s 7ms/step - loss: 1.0493\n",
      "Epoch 314/500\n",
      "26/26 [==============================] - 0s 7ms/step - loss: 0.9600\n",
      "Epoch 315/500\n",
      "26/26 [==============================] - 0s 7ms/step - loss: 1.2483\n",
      "Epoch 316/500\n",
      "26/26 [==============================] - 0s 7ms/step - loss: 1.2894\n",
      "Epoch 317/500\n",
      "26/26 [==============================] - 0s 7ms/step - loss: 1.1420\n",
      "Epoch 318/500\n",
      "26/26 [==============================] - 0s 7ms/step - loss: 0.9673\n",
      "Epoch 319/500\n",
      "26/26 [==============================] - 0s 7ms/step - loss: 0.8626\n",
      "Epoch 320/500\n",
      "26/26 [==============================] - 0s 7ms/step - loss: 1.0046\n",
      "Epoch 321/500\n",
      "26/26 [==============================] - 0s 7ms/step - loss: 1.0592\n",
      "Epoch 322/500\n",
      "26/26 [==============================] - 0s 7ms/step - loss: 0.8989\n",
      "Epoch 323/500\n",
      "26/26 [==============================] - 0s 7ms/step - loss: 0.8577\n",
      "Epoch 324/500\n",
      "26/26 [==============================] - 0s 8ms/step - loss: 0.9297\n",
      "Epoch 325/500\n",
      "26/26 [==============================] - 0s 8ms/step - loss: 0.9442\n",
      "Epoch 326/500\n",
      "26/26 [==============================] - 0s 9ms/step - loss: 1.1027\n",
      "Epoch 327/500\n",
      "26/26 [==============================] - 0s 9ms/step - loss: 1.0416\n",
      "Epoch 328/500\n",
      "26/26 [==============================] - 0s 8ms/step - loss: 0.9044\n",
      "Epoch 329/500\n",
      "26/26 [==============================] - 0s 9ms/step - loss: 1.0387\n",
      "Epoch 330/500\n",
      "26/26 [==============================] - 0s 9ms/step - loss: 0.9225\n",
      "Epoch 331/500\n",
      "26/26 [==============================] - 0s 9ms/step - loss: 1.1480\n",
      "Epoch 332/500\n",
      "26/26 [==============================] - 0s 9ms/step - loss: 0.9024\n",
      "Epoch 333/500\n",
      "26/26 [==============================] - 0s 8ms/step - loss: 0.9414\n",
      "Epoch 334/500\n",
      "26/26 [==============================] - 0s 8ms/step - loss: 1.1357\n",
      "Epoch 335/500\n",
      "26/26 [==============================] - 0s 8ms/step - loss: 1.0625\n",
      "Epoch 336/500\n",
      "26/26 [==============================] - 0s 9ms/step - loss: 1.1984\n",
      "Epoch 337/500\n",
      "26/26 [==============================] - 0s 8ms/step - loss: 0.8792\n",
      "Epoch 338/500\n",
      "26/26 [==============================] - 0s 9ms/step - loss: 1.1245\n",
      "Epoch 339/500\n",
      "26/26 [==============================] - 0s 9ms/step - loss: 0.9606\n",
      "Epoch 340/500\n",
      "26/26 [==============================] - 0s 8ms/step - loss: 0.9904\n",
      "Epoch 341/500\n",
      "26/26 [==============================] - 0s 8ms/step - loss: 1.7541\n",
      "Epoch 342/500\n",
      "26/26 [==============================] - 0s 8ms/step - loss: 0.9796\n",
      "Epoch 343/500\n",
      "26/26 [==============================] - 0s 8ms/step - loss: 0.8321\n",
      "Epoch 344/500\n",
      "26/26 [==============================] - 0s 8ms/step - loss: 0.8516\n",
      "Epoch 345/500\n",
      "26/26 [==============================] - 0s 8ms/step - loss: 0.8586\n",
      "Epoch 346/500\n",
      "26/26 [==============================] - 0s 9ms/step - loss: 0.8555\n",
      "Epoch 347/500\n",
      "26/26 [==============================] - 0s 9ms/step - loss: 0.8230\n",
      "Epoch 348/500\n",
      "26/26 [==============================] - 0s 7ms/step - loss: 0.8454\n",
      "Epoch 349/500\n",
      "26/26 [==============================] - 0s 8ms/step - loss: 0.9343\n",
      "Epoch 350/500\n",
      "26/26 [==============================] - 0s 7ms/step - loss: 0.9541\n",
      "Epoch 351/500\n",
      "26/26 [==============================] - 0s 7ms/step - loss: 0.9044\n",
      "Epoch 352/500\n",
      "26/26 [==============================] - 0s 7ms/step - loss: 1.3418\n",
      "Epoch 353/500\n",
      "26/26 [==============================] - 0s 7ms/step - loss: 1.1148\n",
      "Epoch 354/500\n",
      "26/26 [==============================] - 0s 7ms/step - loss: 0.9223\n",
      "Epoch 355/500\n",
      "26/26 [==============================] - 0s 10ms/step - loss: 1.0262\n",
      "Epoch 356/500\n",
      "26/26 [==============================] - 0s 10ms/step - loss: 0.9041\n",
      "Epoch 357/500\n",
      "26/26 [==============================] - 0s 7ms/step - loss: 1.0496\n",
      "Epoch 358/500\n",
      "26/26 [==============================] - 0s 8ms/step - loss: 0.8980\n",
      "Epoch 359/500\n",
      "26/26 [==============================] - 0s 8ms/step - loss: 0.8834\n",
      "Epoch 360/500\n",
      "26/26 [==============================] - 0s 7ms/step - loss: 1.3396\n",
      "Epoch 361/500\n",
      "26/26 [==============================] - 0s 8ms/step - loss: 0.9994\n",
      "Epoch 362/500\n",
      "26/26 [==============================] - 0s 8ms/step - loss: 1.1251\n",
      "Epoch 363/500\n",
      "26/26 [==============================] - 0s 8ms/step - loss: 1.0635\n",
      "Epoch 364/500\n",
      "26/26 [==============================] - 0s 7ms/step - loss: 0.9239\n",
      "Epoch 365/500\n",
      "26/26 [==============================] - 0s 8ms/step - loss: 1.1839\n",
      "Epoch 366/500\n",
      "26/26 [==============================] - 0s 8ms/step - loss: 1.1606\n",
      "Epoch 367/500\n",
      "26/26 [==============================] - 0s 8ms/step - loss: 1.0345\n",
      "Epoch 368/500\n",
      "26/26 [==============================] - 0s 8ms/step - loss: 0.8786\n",
      "Epoch 369/500\n",
      "26/26 [==============================] - 0s 7ms/step - loss: 0.8579\n",
      "Epoch 370/500\n",
      "26/26 [==============================] - 0s 8ms/step - loss: 1.3271\n",
      "Epoch 371/500\n",
      "26/26 [==============================] - 0s 7ms/step - loss: 0.8259\n",
      "Epoch 372/500\n",
      "26/26 [==============================] - 0s 7ms/step - loss: 0.9185\n",
      "Epoch 373/500\n",
      "26/26 [==============================] - 0s 8ms/step - loss: 1.3385\n",
      "Epoch 374/500\n",
      "26/26 [==============================] - 0s 8ms/step - loss: 1.3271\n",
      "Epoch 375/500\n",
      "26/26 [==============================] - 0s 8ms/step - loss: 0.9214\n",
      "Epoch 376/500\n",
      "26/26 [==============================] - 0s 8ms/step - loss: 0.9776\n",
      "Epoch 377/500\n",
      "26/26 [==============================] - 0s 8ms/step - loss: 0.9343\n",
      "Epoch 378/500\n",
      "26/26 [==============================] - 0s 8ms/step - loss: 0.8992\n",
      "Epoch 379/500\n",
      "26/26 [==============================] - 0s 8ms/step - loss: 1.0022\n",
      "Epoch 380/500\n",
      "26/26 [==============================] - 0s 8ms/step - loss: 0.8874\n",
      "Epoch 381/500\n",
      "26/26 [==============================] - 0s 7ms/step - loss: 1.1405\n",
      "Epoch 382/500\n",
      "26/26 [==============================] - 0s 8ms/step - loss: 0.8568\n",
      "Epoch 383/500\n",
      "26/26 [==============================] - 0s 8ms/step - loss: 0.9702\n",
      "Epoch 384/500\n",
      "26/26 [==============================] - 0s 8ms/step - loss: 0.9461\n",
      "Epoch 385/500\n",
      "26/26 [==============================] - 0s 8ms/step - loss: 0.8373\n",
      "Epoch 386/500\n",
      "26/26 [==============================] - 0s 8ms/step - loss: 0.8825\n",
      "Epoch 387/500\n",
      "26/26 [==============================] - 0s 8ms/step - loss: 0.9009\n",
      "Epoch 388/500\n",
      "26/26 [==============================] - 0s 8ms/step - loss: 0.8331\n",
      "Epoch 389/500\n",
      "26/26 [==============================] - 0s 8ms/step - loss: 0.9148\n",
      "Epoch 390/500\n",
      "26/26 [==============================] - 0s 8ms/step - loss: 1.0956\n",
      "Epoch 391/500\n",
      "26/26 [==============================] - 0s 8ms/step - loss: 0.8983\n",
      "Epoch 392/500\n",
      "26/26 [==============================] - 0s 8ms/step - loss: 0.9365\n",
      "Epoch 393/500\n",
      "26/26 [==============================] - 0s 8ms/step - loss: 0.9033\n",
      "Epoch 394/500\n",
      "26/26 [==============================] - 0s 8ms/step - loss: 0.9443\n",
      "Epoch 395/500\n",
      "26/26 [==============================] - 0s 8ms/step - loss: 0.8890\n",
      "Epoch 396/500\n",
      "26/26 [==============================] - 0s 8ms/step - loss: 1.0376\n",
      "Epoch 397/500\n",
      "26/26 [==============================] - 0s 7ms/step - loss: 10.3540\n",
      "Epoch 398/500\n",
      "26/26 [==============================] - 0s 8ms/step - loss: 1.5432\n",
      "Epoch 399/500\n",
      "26/26 [==============================] - 0s 8ms/step - loss: 1.0664\n",
      "Epoch 400/500\n",
      "26/26 [==============================] - 0s 8ms/step - loss: 2.2928\n",
      "Epoch 401/500\n"
     ]
    },
    {
     "name": "stdout",
     "output_type": "stream",
     "text": [
      "26/26 [==============================] - 0s 8ms/step - loss: 1.3087\n",
      "Epoch 402/500\n",
      "26/26 [==============================] - 0s 8ms/step - loss: 1.8303\n",
      "Epoch 403/500\n",
      "26/26 [==============================] - 0s 9ms/step - loss: 0.9725\n",
      "Epoch 404/500\n",
      "26/26 [==============================] - 0s 9ms/step - loss: 1.2796\n",
      "Epoch 405/500\n",
      "26/26 [==============================] - 0s 11ms/step - loss: 1.3319\n",
      "Epoch 406/500\n",
      "26/26 [==============================] - 0s 9ms/step - loss: 1.1832\n",
      "Epoch 407/500\n",
      "26/26 [==============================] - 0s 8ms/step - loss: 1.2684\n",
      "Epoch 408/500\n",
      "26/26 [==============================] - 0s 8ms/step - loss: 2.0762\n",
      "Epoch 409/500\n",
      "26/26 [==============================] - 0s 9ms/step - loss: 1.2470\n",
      "Epoch 410/500\n",
      "26/26 [==============================] - 0s 9ms/step - loss: 1.1410\n",
      "Epoch 411/500\n",
      "26/26 [==============================] - 0s 9ms/step - loss: 1.0701\n",
      "Epoch 412/500\n",
      "26/26 [==============================] - 0s 9ms/step - loss: 0.9818\n",
      "Epoch 413/500\n",
      "26/26 [==============================] - 0s 9ms/step - loss: 0.9645\n",
      "Epoch 414/500\n",
      "26/26 [==============================] - 0s 9ms/step - loss: 1.0551\n",
      "Epoch 415/500\n",
      "26/26 [==============================] - 0s 8ms/step - loss: 0.9516\n",
      "Epoch 416/500\n",
      "26/26 [==============================] - 0s 9ms/step - loss: 0.9174\n",
      "Epoch 417/500\n",
      "26/26 [==============================] - 0s 8ms/step - loss: 0.9005\n",
      "Epoch 418/500\n",
      "26/26 [==============================] - 0s 8ms/step - loss: 0.9885\n",
      "Epoch 419/500\n",
      "26/26 [==============================] - 0s 8ms/step - loss: 1.2689\n",
      "Epoch 420/500\n",
      "26/26 [==============================] - 0s 10ms/step - loss: 1.0872\n",
      "Epoch 421/500\n",
      "26/26 [==============================] - 0s 8ms/step - loss: 1.0325\n",
      "Epoch 422/500\n",
      "26/26 [==============================] - 0s 9ms/step - loss: 0.9714\n",
      "Epoch 423/500\n",
      "26/26 [==============================] - 0s 9ms/step - loss: 0.9287\n",
      "Epoch 424/500\n",
      "26/26 [==============================] - 0s 9ms/step - loss: 1.6744\n",
      "Epoch 425/500\n",
      "26/26 [==============================] - 0s 8ms/step - loss: 0.9470\n",
      "Epoch 426/500\n",
      "26/26 [==============================] - 0s 7ms/step - loss: 1.0329\n",
      "Epoch 427/500\n",
      "26/26 [==============================] - 0s 7ms/step - loss: 1.0168\n",
      "Epoch 428/500\n",
      "26/26 [==============================] - 0s 7ms/step - loss: 1.0751\n",
      "Epoch 429/500\n",
      "26/26 [==============================] - 0s 8ms/step - loss: 0.8990\n",
      "Epoch 430/500\n",
      "26/26 [==============================] - 0s 8ms/step - loss: 0.8331\n",
      "Epoch 431/500\n",
      "26/26 [==============================] - 0s 8ms/step - loss: 0.9087\n",
      "Epoch 432/500\n",
      "26/26 [==============================] - 0s 8ms/step - loss: 0.8445\n",
      "Epoch 433/500\n",
      "26/26 [==============================] - 0s 8ms/step - loss: 1.0601\n",
      "Epoch 434/500\n",
      "26/26 [==============================] - 0s 7ms/step - loss: 0.9513\n",
      "Epoch 435/500\n",
      "26/26 [==============================] - 0s 7ms/step - loss: 0.9669\n",
      "Epoch 436/500\n",
      "26/26 [==============================] - 0s 8ms/step - loss: 1.8417\n",
      "Epoch 437/500\n",
      "26/26 [==============================] - 0s 7ms/step - loss: 1.2736\n",
      "Epoch 438/500\n",
      "26/26 [==============================] - 0s 7ms/step - loss: 0.9187\n",
      "Epoch 439/500\n",
      "26/26 [==============================] - 0s 7ms/step - loss: 1.2656\n",
      "Epoch 440/500\n",
      "26/26 [==============================] - 0s 7ms/step - loss: 0.8443\n",
      "Epoch 441/500\n",
      "26/26 [==============================] - 0s 7ms/step - loss: 1.0128\n",
      "Epoch 442/500\n",
      "26/26 [==============================] - 0s 8ms/step - loss: 1.3519\n",
      "Epoch 443/500\n",
      "26/26 [==============================] - 0s 8ms/step - loss: 0.9203\n",
      "Epoch 444/500\n",
      "26/26 [==============================] - 0s 11ms/step - loss: 1.0955\n",
      "Epoch 445/500\n",
      "26/26 [==============================] - 0s 10ms/step - loss: 1.1830\n",
      "Epoch 446/500\n",
      "26/26 [==============================] - 0s 12ms/step - loss: 1.2040\n",
      "Epoch 447/500\n",
      "26/26 [==============================] - 0s 8ms/step - loss: 1.2308\n",
      "Epoch 448/500\n",
      "26/26 [==============================] - 0s 8ms/step - loss: 0.9245\n",
      "Epoch 449/500\n",
      "26/26 [==============================] - 0s 7ms/step - loss: 0.8434\n",
      "Epoch 450/500\n",
      "26/26 [==============================] - 0s 7ms/step - loss: 0.9504\n",
      "Epoch 451/500\n",
      "26/26 [==============================] - 0s 7ms/step - loss: 0.8388\n",
      "Epoch 452/500\n",
      "26/26 [==============================] - 0s 7ms/step - loss: 0.8746\n",
      "Epoch 453/500\n",
      "26/26 [==============================] - 0s 7ms/step - loss: 1.0170\n",
      "Epoch 454/500\n",
      "26/26 [==============================] - 0s 11ms/step - loss: 0.9259\n",
      "Epoch 455/500\n",
      "26/26 [==============================] - 0s 8ms/step - loss: 0.8322\n",
      "Epoch 456/500\n",
      "26/26 [==============================] - 0s 7ms/step - loss: 0.9609\n",
      "Epoch 457/500\n",
      "26/26 [==============================] - 0s 7ms/step - loss: 0.8949\n",
      "Epoch 458/500\n",
      "26/26 [==============================] - 0s 7ms/step - loss: 0.8642\n",
      "Epoch 459/500\n",
      "26/26 [==============================] - 0s 7ms/step - loss: 0.8314\n",
      "Epoch 460/500\n",
      "26/26 [==============================] - 0s 9ms/step - loss: 1.2332\n",
      "Epoch 461/500\n",
      "26/26 [==============================] - 0s 9ms/step - loss: 0.9006\n",
      "Epoch 462/500\n",
      "26/26 [==============================] - 0s 7ms/step - loss: 1.0207\n",
      "Epoch 463/500\n",
      "26/26 [==============================] - 0s 7ms/step - loss: 0.8643\n",
      "Epoch 464/500\n",
      "26/26 [==============================] - 0s 7ms/step - loss: 0.9785\n",
      "Epoch 465/500\n",
      "26/26 [==============================] - 0s 10ms/step - loss: 0.8825\n",
      "Epoch 466/500\n",
      "26/26 [==============================] - 0s 8ms/step - loss: 0.7944\n",
      "Epoch 467/500\n",
      "26/26 [==============================] - 0s 8ms/step - loss: 0.9067\n",
      "Epoch 468/500\n",
      "26/26 [==============================] - 0s 8ms/step - loss: 1.0839\n",
      "Epoch 469/500\n",
      "26/26 [==============================] - 0s 7ms/step - loss: 1.2106\n",
      "Epoch 470/500\n",
      "26/26 [==============================] - 0s 9ms/step - loss: 1.0007\n",
      "Epoch 471/500\n",
      "26/26 [==============================] - 0s 10ms/step - loss: 0.8946\n",
      "Epoch 472/500\n",
      "26/26 [==============================] - 0s 8ms/step - loss: 1.8037\n",
      "Epoch 473/500\n",
      "26/26 [==============================] - 0s 8ms/step - loss: 0.8185\n",
      "Epoch 474/500\n",
      "26/26 [==============================] - 0s 8ms/step - loss: 0.8707\n",
      "Epoch 475/500\n",
      "26/26 [==============================] - 0s 7ms/step - loss: 0.8869\n",
      "Epoch 476/500\n",
      "26/26 [==============================] - 0s 10ms/step - loss: 1.4564\n",
      "Epoch 477/500\n",
      "26/26 [==============================] - 0s 11ms/step - loss: 0.9609\n",
      "Epoch 478/500\n",
      "26/26 [==============================] - 0s 9ms/step - loss: 0.8435\n",
      "Epoch 479/500\n",
      "26/26 [==============================] - 0s 8ms/step - loss: 0.9633\n",
      "Epoch 480/500\n",
      "26/26 [==============================] - 0s 12ms/step - loss: 0.8430\n",
      "Epoch 481/500\n",
      "26/26 [==============================] - 0s 10ms/step - loss: 0.9887\n",
      "Epoch 482/500\n",
      "26/26 [==============================] - 0s 8ms/step - loss: 0.8682\n",
      "Epoch 483/500\n",
      "26/26 [==============================] - 0s 8ms/step - loss: 0.8630\n",
      "Epoch 484/500\n",
      "26/26 [==============================] - 0s 9ms/step - loss: 0.8653\n",
      "Epoch 485/500\n",
      "26/26 [==============================] - 0s 11ms/step - loss: 0.8914\n",
      "Epoch 486/500\n",
      "26/26 [==============================] - 0s 8ms/step - loss: 0.8345\n",
      "Epoch 487/500\n",
      "26/26 [==============================] - 0s 12ms/step - loss: 0.9287\n",
      "Epoch 488/500\n",
      "26/26 [==============================] - 0s 10ms/step - loss: 0.8551\n",
      "Epoch 489/500\n",
      "26/26 [==============================] - 0s 8ms/step - loss: 0.9086\n",
      "Epoch 490/500\n",
      "26/26 [==============================] - 0s 9ms/step - loss: 0.8556\n",
      "Epoch 491/500\n",
      "26/26 [==============================] - 0s 8ms/step - loss: 0.8352\n",
      "Epoch 492/500\n",
      "26/26 [==============================] - 0s 8ms/step - loss: 0.9524\n",
      "Epoch 493/500\n",
      "26/26 [==============================] - 0s 8ms/step - loss: 0.8759\n",
      "Epoch 494/500\n",
      "26/26 [==============================] - 0s 8ms/step - loss: 0.8125\n",
      "Epoch 495/500\n",
      "26/26 [==============================] - 0s 8ms/step - loss: 0.9454\n",
      "Epoch 496/500\n",
      "26/26 [==============================] - 0s 8ms/step - loss: 0.8112\n",
      "Epoch 497/500\n",
      "26/26 [==============================] - 0s 9ms/step - loss: 0.9226\n",
      "Epoch 498/500\n",
      "26/26 [==============================] - 0s 8ms/step - loss: 0.8294\n",
      "Epoch 499/500\n",
      "26/26 [==============================] - 0s 8ms/step - loss: 0.9542\n",
      "Epoch 500/500\n"
     ]
    },
    {
     "name": "stdout",
     "output_type": "stream",
     "text": [
      "16/26 [=================>............] - ETA: 0s - loss: 0.8521\b\b\b\b\b\b\b\b\b\b\b\b\b\b\b\b\b\b\b\b\b\b\b\b\b\b\b\b\b\b\b\b\b\b\b\b\b\b\b\b\b\b\b\b\b\b\b\b\b\b\b\b\b\b\b\b\b\b\b\b\b\b\b\r",
      "26/26 [==============================] - 0s 8ms/step - loss: 0.8117\n"
     ]
    },
    {
     "data": {
      "text/plain": [
       "<keras.callbacks.History at 0x20d45ea3cf8>"
      ]
     },
     "execution_count": 179,
     "metadata": {},
     "output_type": "execute_result"
    }
   ],
   "source": [
    "# Fitting to the training set\n",
    "regressor.fit(X, Y, epochs=500, batch_size=16)"
   ]
  },
  {
   "cell_type": "code",
   "execution_count": 180,
   "metadata": {},
   "outputs": [
    {
     "name": "stdout",
     "output_type": "stream",
     "text": [
      "[[[-0.1924711  -0.23096237]\n",
      "  [-0.3269438  -0.45380038]\n",
      "  [-0.19613889 -0.34801644]\n",
      "  [-0.06487506 -0.23120707]\n",
      "  [ 0.04048561 -0.12994644]\n",
      "  [ 0.23773499  0.13957414]\n",
      "  [ 0.18570714  0.08653447]\n",
      "  [ 0.114195    0.01554939]\n",
      "  [ 0.01824257 -0.08420032]\n",
      "  [-0.12053305 -0.23371348]\n",
      "  [-0.335078   -0.46530706]\n",
      "  [-0.7232804  -0.87972724]\n",
      "  [-1.578091   -1.7671742 ]\n",
      "  [-3.8599057  -4.091867  ]\n",
      "  [-6.297168   -6.5445848 ]]]\n"
     ]
    }
   ],
   "source": [
    "predicted = regressor.predict(X[0:1])\n",
    "mask = X[0:1] != -5.0\n",
    "predicted = predicted[mask].reshape(1, -1, 2)\n",
    "print(predicted)"
   ]
  },
  {
   "cell_type": "code",
   "execution_count": 181,
   "metadata": {},
   "outputs": [
    {
     "name": "stdout",
     "output_type": "stream",
     "text": [
      "[[[ 0.14698164 -0.4759104 ]\n",
      "  [ 0.2498688   0.13816753]\n",
      "  [ 0.2897638   0.16887143]\n",
      "  [ 0.26036748  0.15351948]\n",
      "  [ 0.2876641   0.7061896 ]\n",
      "  [ 0.28556433  0.15351948]\n",
      "  [ 0.256168    0.13816753]\n",
      "  [ 0.2708662   0.15351948]\n",
      "  [ 0.2834646   0.15351948]\n",
      "  [ 0.28136486  0.15351948]\n",
      "  [ 0.26876643  0.13816753]\n",
      "  [ 0.2498688   0.13816753]\n",
      "  [ 0.28556433  0.15351948]\n",
      "  [ 0.29186356  0.16887143]\n",
      "  [-5.         -5.        ]]]\n"
     ]
    }
   ],
   "source": [
    "true_value = Y[0:1][mask].reshape(1, -1, 2)\n",
    "print(true_value)"
   ]
  },
  {
   "cell_type": "code",
   "execution_count": 182,
   "metadata": {},
   "outputs": [
    {
     "data": {
      "text/plain": [
       "<matplotlib.axes._subplots.AxesSubplot at 0x20d4d1db240>"
      ]
     },
     "execution_count": 182,
     "metadata": {},
     "output_type": "execute_result"
    },
    {
     "data": {
      "image/png": "[encoded data removed]",
      "text/plain": [
       "<Figure size 1080x504 with 2 Axes>"
      ]
     },
     "metadata": {},
     "output_type": "display_data"
    }
   ],
   "source": [
    "f, axes = plt.subplots(2, 1)\n",
    "sns.lineplot(x=true_value[0, :, 0], y=true_value[0, :, 1], ax=axes[0])\n",
    "sns.lineplot(x=predicted[0, :, 0], y=predicted[0, :, 1], ax=axes[1])"
   ]
  },
  {
   "cell_type": "code",
   "execution_count": null,
   "metadata": {},
   "outputs": [],
   "source": []
  }
 ],
 "metadata": {
  "kernelspec": {
   "display_name": "Python 3",
   "language": "python",
   "name": "python3"
  },
  "language_info": {
   "codemirror_mode": {
    "name": "ipython",
    "version": 3
   },
   "file_extension": ".py",
   "mimetype": "text/x-python",
   "name": "python",
   "nbconvert_exporter": "python",
   "pygments_lexer": "ipython3",
   "version": "3.6.4"
  }
 },
 "nbformat": 4,
 "nbformat_minor": 2
}
